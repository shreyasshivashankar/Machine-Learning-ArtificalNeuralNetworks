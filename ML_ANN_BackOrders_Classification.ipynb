{
 "cells": [
  {
   "cell_type": "markdown",
   "metadata": {},
   "source": [
    "### Problem Statement\n",
    "\n",
    "    Identify products at risk of backorder before the event occurs so that business has time to react."
   ]
  },
  {
   "cell_type": "markdown",
   "metadata": {},
   "source": [
    "### What is a Backorder?\n",
    "Backorders are products that are temporarily out of stock, but a customer is permitted to place an order against future inventory. A backorder generally indicates that customer demand for a product or service exceeds a company’s capacity to supply it. Back orders are both good and bad. Strong demand can drive back orders, but so can suboptimal planning."
   ]
  },
  {
   "cell_type": "markdown",
   "metadata": {},
   "source": [
    "### Data\n",
    "\n",
    "Data file contains the historical data for the 8 weeks prior to the week we are trying to predict. The data was taken as weekly snapshots at the start of each week. Columns are defined as follows:\n",
    "\n",
    "    sku - Random ID for the product\n",
    "\n",
    "    national_inv - Current inventory level for the part\n",
    "\n",
    "    lead_time - Transit time for product (if available)\n",
    "\n",
    "    in_transit_qty - Amount of product in transit from source\n",
    "\n",
    "    forecast_3_month - Forecast sales for the next 3 months\n",
    "\n",
    "    forecast_6_month - Forecast sales for the next 6 months\n",
    "\n",
    "    forecast_9_month - Forecast sales for the next 9 months\n",
    "\n",
    "    sales_1_month - Sales quantity for the prior 1 month time period\n",
    "\n",
    "    sales_3_month - Sales quantity for the prior 3 month time period\n",
    "\n",
    "    sales_6_month - Sales quantity for the prior 6 month time period\n",
    "\n",
    "    sales_9_month - Sales quantity for the prior 9 month time period\n",
    "\n",
    "    min_bank - Minimum recommend amount to stock\n",
    "\n",
    "    potential_issue - Source issue for part identified\n",
    "\n",
    "    pieces_past_due - Parts overdue from source\n",
    "\n",
    "    perf_6_month_avg - Source performance for prior 6 month period\n",
    "\n",
    "    perf_12_month_avg - Source performance for prior 12 month period\n",
    "\n",
    "    local_bo_qty - Amount of stock orders overdue\n",
    "\n",
    "    deck_risk - Part risk flag\n",
    "\n",
    "    oe_constraint - Part risk flag\n",
    "\n",
    "    ppap_risk - Part risk flag\n",
    "\n",
    "    stop_auto_buy - Part risk flag\n",
    "\n",
    "    rev_stop - Part risk flag\n",
    "\n",
    "    went_on_backorder - Product actually went on backorder. This is the target value."
   ]
  },
  {
   "cell_type": "markdown",
   "metadata": {},
   "source": [
    "### Data Pre-processing\n",
    "#### Loading the required libraries"
   ]
  },
  {
   "cell_type": "code",
   "execution_count": 1,
   "metadata": {},
   "outputs": [
    {
     "name": "stderr",
     "output_type": "stream",
     "text": [
      "/anaconda3/lib/python3.6/site-packages/h5py/__init__.py:36: FutureWarning: Conversion of the second argument of issubdtype from `float` to `np.floating` is deprecated. In future, it will be treated as `np.float64 == np.dtype(float).type`.\n",
      "  from ._conv import register_converters as _register_converters\n",
      "Using TensorFlow backend.\n",
      "/anaconda3/lib/python3.6/importlib/_bootstrap.py:219: RuntimeWarning: compiletime version 3.5 of module 'tensorflow.python.framework.fast_tensor_util' does not match runtime version 3.6\n",
      "  return f(*args, **kwds)\n"
     ]
    }
   ],
   "source": [
    "import pandas as pd\n",
    "import numpy as np\n",
    "\n",
    "from sklearn.model_selection import train_test_split\n",
    "from sklearn.metrics import confusion_matrix, roc_curve, auc\n",
    "from sklearn.linear_model import LogisticRegression\n",
    "\n",
    "from keras.models import Sequential\n",
    "from keras.layers import Dense\n",
    "from keras.utils import to_categorical\n",
    "from keras import optimizers\n",
    "\n",
    "import matplotlib.pyplot as plt\n",
    "%matplotlib inline  \n",
    "import os\n",
    "\n",
    "import warnings\n",
    "warnings.filterwarnings(\"ignore\", category=DeprecationWarning) "
   ]
  },
  {
   "cell_type": "markdown",
   "metadata": {},
   "source": [
    "#### Loading the data"
   ]
  },
  {
   "cell_type": "code",
   "execution_count": 2,
   "metadata": {},
   "outputs": [
    {
     "data": {
      "text/plain": [
       "'/Users/seemabasantani/Documents/Academics/Batch 56/CSE7321c/ANN/Lab/Batch56'"
      ]
     },
     "execution_count": 2,
     "metadata": {},
     "output_type": "execute_result"
    }
   ],
   "source": [
    "os.getcwd()"
   ]
  },
  {
   "cell_type": "code",
   "execution_count": 3,
   "metadata": {},
   "outputs": [],
   "source": [
    "#For setting working directory, if required\n",
    "#os.chdir('path to file)"
   ]
  },
  {
   "cell_type": "code",
   "execution_count": 4,
   "metadata": {
    "scrolled": true
   },
   "outputs": [],
   "source": [
    "data = pd.read_csv(\"BackOrders.csv\",header=0)"
   ]
  },
  {
   "cell_type": "markdown",
   "metadata": {},
   "source": [
    "#### Understand the Data"
   ]
  },
  {
   "cell_type": "markdown",
   "metadata": {},
   "source": [
    "See the number row and columns"
   ]
  },
  {
   "cell_type": "code",
   "execution_count": 5,
   "metadata": {},
   "outputs": [
    {
     "data": {
      "text/plain": [
       "(61589, 23)"
      ]
     },
     "execution_count": 5,
     "metadata": {},
     "output_type": "execute_result"
    }
   ],
   "source": [
    "data.shape"
   ]
  },
  {
   "cell_type": "markdown",
   "metadata": {},
   "source": [
    "Display the columns"
   ]
  },
  {
   "cell_type": "code",
   "execution_count": 6,
   "metadata": {},
   "outputs": [
    {
     "data": {
      "text/plain": [
       "Index(['sku', 'national_inv', 'lead_time', 'in_transit_qty',\n",
       "       'forecast_3_month', 'forecast_6_month', 'forecast_9_month',\n",
       "       'sales_1_month', 'sales_3_month', 'sales_6_month', 'sales_9_month',\n",
       "       'min_bank', 'potential_issue', 'pieces_past_due', 'perf_6_month_avg',\n",
       "       'perf_12_month_avg', 'local_bo_qty', 'deck_risk', 'oe_constraint',\n",
       "       'ppap_risk', 'stop_auto_buy', 'rev_stop', 'went_on_backorder'],\n",
       "      dtype='object')"
      ]
     },
     "execution_count": 6,
     "metadata": {},
     "output_type": "execute_result"
    }
   ],
   "source": [
    "data.columns"
   ]
  },
  {
   "cell_type": "markdown",
   "metadata": {},
   "source": [
    "Display the index"
   ]
  },
  {
   "cell_type": "code",
   "execution_count": 7,
   "metadata": {},
   "outputs": [
    {
     "data": {
      "text/plain": [
       "RangeIndex(start=0, stop=61589, step=1)"
      ]
     },
     "execution_count": 7,
     "metadata": {},
     "output_type": "execute_result"
    }
   ],
   "source": [
    "data.index"
   ]
  },
  {
   "cell_type": "markdown",
   "metadata": {},
   "source": [
    "See the top rows of the data"
   ]
  },
  {
   "cell_type": "code",
   "execution_count": 8,
   "metadata": {},
   "outputs": [
    {
     "data": {
      "text/html": [
       "<div>\n",
       "<style scoped>\n",
       "    .dataframe tbody tr th:only-of-type {\n",
       "        vertical-align: middle;\n",
       "    }\n",
       "\n",
       "    .dataframe tbody tr th {\n",
       "        vertical-align: top;\n",
       "    }\n",
       "\n",
       "    .dataframe thead th {\n",
       "        text-align: right;\n",
       "    }\n",
       "</style>\n",
       "<table border=\"1\" class=\"dataframe\">\n",
       "  <thead>\n",
       "    <tr style=\"text-align: right;\">\n",
       "      <th></th>\n",
       "      <th>sku</th>\n",
       "      <th>national_inv</th>\n",
       "      <th>lead_time</th>\n",
       "      <th>in_transit_qty</th>\n",
       "      <th>forecast_3_month</th>\n",
       "      <th>forecast_6_month</th>\n",
       "      <th>forecast_9_month</th>\n",
       "      <th>sales_1_month</th>\n",
       "      <th>sales_3_month</th>\n",
       "      <th>sales_6_month</th>\n",
       "      <th>...</th>\n",
       "      <th>pieces_past_due</th>\n",
       "      <th>perf_6_month_avg</th>\n",
       "      <th>perf_12_month_avg</th>\n",
       "      <th>local_bo_qty</th>\n",
       "      <th>deck_risk</th>\n",
       "      <th>oe_constraint</th>\n",
       "      <th>ppap_risk</th>\n",
       "      <th>stop_auto_buy</th>\n",
       "      <th>rev_stop</th>\n",
       "      <th>went_on_backorder</th>\n",
       "    </tr>\n",
       "  </thead>\n",
       "  <tbody>\n",
       "    <tr>\n",
       "      <th>0</th>\n",
       "      <td>1888279</td>\n",
       "      <td>117</td>\n",
       "      <td>NaN</td>\n",
       "      <td>0</td>\n",
       "      <td>0</td>\n",
       "      <td>0</td>\n",
       "      <td>0</td>\n",
       "      <td>0</td>\n",
       "      <td>0</td>\n",
       "      <td>15</td>\n",
       "      <td>...</td>\n",
       "      <td>0</td>\n",
       "      <td>-99.00</td>\n",
       "      <td>-99.00</td>\n",
       "      <td>0</td>\n",
       "      <td>No</td>\n",
       "      <td>No</td>\n",
       "      <td>Yes</td>\n",
       "      <td>Yes</td>\n",
       "      <td>No</td>\n",
       "      <td>No</td>\n",
       "    </tr>\n",
       "    <tr>\n",
       "      <th>1</th>\n",
       "      <td>1870557</td>\n",
       "      <td>7</td>\n",
       "      <td>2.0</td>\n",
       "      <td>0</td>\n",
       "      <td>0</td>\n",
       "      <td>0</td>\n",
       "      <td>0</td>\n",
       "      <td>0</td>\n",
       "      <td>0</td>\n",
       "      <td>0</td>\n",
       "      <td>...</td>\n",
       "      <td>0</td>\n",
       "      <td>0.50</td>\n",
       "      <td>0.28</td>\n",
       "      <td>0</td>\n",
       "      <td>Yes</td>\n",
       "      <td>No</td>\n",
       "      <td>No</td>\n",
       "      <td>Yes</td>\n",
       "      <td>No</td>\n",
       "      <td>No</td>\n",
       "    </tr>\n",
       "    <tr>\n",
       "      <th>2</th>\n",
       "      <td>1475481</td>\n",
       "      <td>258</td>\n",
       "      <td>15.0</td>\n",
       "      <td>10</td>\n",
       "      <td>10</td>\n",
       "      <td>77</td>\n",
       "      <td>184</td>\n",
       "      <td>46</td>\n",
       "      <td>132</td>\n",
       "      <td>256</td>\n",
       "      <td>...</td>\n",
       "      <td>0</td>\n",
       "      <td>0.54</td>\n",
       "      <td>0.70</td>\n",
       "      <td>0</td>\n",
       "      <td>No</td>\n",
       "      <td>No</td>\n",
       "      <td>No</td>\n",
       "      <td>Yes</td>\n",
       "      <td>No</td>\n",
       "      <td>No</td>\n",
       "    </tr>\n",
       "  </tbody>\n",
       "</table>\n",
       "<p>3 rows × 23 columns</p>\n",
       "</div>"
      ],
      "text/plain": [
       "       sku  national_inv  lead_time  in_transit_qty  forecast_3_month  \\\n",
       "0  1888279           117        NaN               0                 0   \n",
       "1  1870557             7        2.0               0                 0   \n",
       "2  1475481           258       15.0              10                10   \n",
       "\n",
       "   forecast_6_month  forecast_9_month  sales_1_month  sales_3_month  \\\n",
       "0                 0                 0              0              0   \n",
       "1                 0                 0              0              0   \n",
       "2                77               184             46            132   \n",
       "\n",
       "   sales_6_month        ...         pieces_past_due  perf_6_month_avg  \\\n",
       "0             15        ...                       0            -99.00   \n",
       "1              0        ...                       0              0.50   \n",
       "2            256        ...                       0              0.54   \n",
       "\n",
       "  perf_12_month_avg  local_bo_qty  deck_risk  oe_constraint  ppap_risk  \\\n",
       "0            -99.00             0         No             No        Yes   \n",
       "1              0.28             0        Yes             No         No   \n",
       "2              0.70             0         No             No         No   \n",
       "\n",
       "  stop_auto_buy rev_stop went_on_backorder  \n",
       "0           Yes       No                No  \n",
       "1           Yes       No                No  \n",
       "2           Yes       No                No  \n",
       "\n",
       "[3 rows x 23 columns]"
      ]
     },
     "execution_count": 8,
     "metadata": {},
     "output_type": "execute_result"
    }
   ],
   "source": [
    "data[:3]"
   ]
  },
  {
   "cell_type": "markdown",
   "metadata": {},
   "source": [
    "Shows a quick statistic summary of your data using describe.\n",
    "\n",
    "For object data (e.g. strings or timestamps), the result’s index will include count, unique, top, and freq. \n",
    "\n",
    "The top is the most common value.\n",
    "\n",
    "The freq is the most common value’s frequency.\n",
    "\n",
    "Timestamps also include the first and last items."
   ]
  },
  {
   "cell_type": "code",
   "execution_count": 9,
   "metadata": {
    "scrolled": true
   },
   "outputs": [
    {
     "data": {
      "text/html": [
       "<div>\n",
       "<style scoped>\n",
       "    .dataframe tbody tr th:only-of-type {\n",
       "        vertical-align: middle;\n",
       "    }\n",
       "\n",
       "    .dataframe tbody tr th {\n",
       "        vertical-align: top;\n",
       "    }\n",
       "\n",
       "    .dataframe thead th {\n",
       "        text-align: right;\n",
       "    }\n",
       "</style>\n",
       "<table border=\"1\" class=\"dataframe\">\n",
       "  <thead>\n",
       "    <tr style=\"text-align: right;\">\n",
       "      <th></th>\n",
       "      <th>sku</th>\n",
       "      <th>national_inv</th>\n",
       "      <th>lead_time</th>\n",
       "      <th>in_transit_qty</th>\n",
       "      <th>forecast_3_month</th>\n",
       "      <th>forecast_6_month</th>\n",
       "      <th>forecast_9_month</th>\n",
       "      <th>sales_1_month</th>\n",
       "      <th>sales_3_month</th>\n",
       "      <th>sales_6_month</th>\n",
       "      <th>...</th>\n",
       "      <th>pieces_past_due</th>\n",
       "      <th>perf_6_month_avg</th>\n",
       "      <th>perf_12_month_avg</th>\n",
       "      <th>local_bo_qty</th>\n",
       "      <th>deck_risk</th>\n",
       "      <th>oe_constraint</th>\n",
       "      <th>ppap_risk</th>\n",
       "      <th>stop_auto_buy</th>\n",
       "      <th>rev_stop</th>\n",
       "      <th>went_on_backorder</th>\n",
       "    </tr>\n",
       "  </thead>\n",
       "  <tbody>\n",
       "    <tr>\n",
       "      <th>count</th>\n",
       "      <td>6.158900e+04</td>\n",
       "      <td>61589.000000</td>\n",
       "      <td>58186.000000</td>\n",
       "      <td>61589.000000</td>\n",
       "      <td>6.158900e+04</td>\n",
       "      <td>6.158900e+04</td>\n",
       "      <td>6.158900e+04</td>\n",
       "      <td>61589.000000</td>\n",
       "      <td>61589.000000</td>\n",
       "      <td>6.158900e+04</td>\n",
       "      <td>...</td>\n",
       "      <td>61589.000000</td>\n",
       "      <td>61589.000000</td>\n",
       "      <td>61589.000000</td>\n",
       "      <td>61589.000000</td>\n",
       "      <td>61589</td>\n",
       "      <td>61589</td>\n",
       "      <td>61589</td>\n",
       "      <td>61589</td>\n",
       "      <td>61589</td>\n",
       "      <td>61589</td>\n",
       "    </tr>\n",
       "    <tr>\n",
       "      <th>unique</th>\n",
       "      <td>NaN</td>\n",
       "      <td>NaN</td>\n",
       "      <td>NaN</td>\n",
       "      <td>NaN</td>\n",
       "      <td>NaN</td>\n",
       "      <td>NaN</td>\n",
       "      <td>NaN</td>\n",
       "      <td>NaN</td>\n",
       "      <td>NaN</td>\n",
       "      <td>NaN</td>\n",
       "      <td>...</td>\n",
       "      <td>NaN</td>\n",
       "      <td>NaN</td>\n",
       "      <td>NaN</td>\n",
       "      <td>NaN</td>\n",
       "      <td>2</td>\n",
       "      <td>2</td>\n",
       "      <td>2</td>\n",
       "      <td>2</td>\n",
       "      <td>2</td>\n",
       "      <td>2</td>\n",
       "    </tr>\n",
       "    <tr>\n",
       "      <th>top</th>\n",
       "      <td>NaN</td>\n",
       "      <td>NaN</td>\n",
       "      <td>NaN</td>\n",
       "      <td>NaN</td>\n",
       "      <td>NaN</td>\n",
       "      <td>NaN</td>\n",
       "      <td>NaN</td>\n",
       "      <td>NaN</td>\n",
       "      <td>NaN</td>\n",
       "      <td>NaN</td>\n",
       "      <td>...</td>\n",
       "      <td>NaN</td>\n",
       "      <td>NaN</td>\n",
       "      <td>NaN</td>\n",
       "      <td>NaN</td>\n",
       "      <td>No</td>\n",
       "      <td>No</td>\n",
       "      <td>No</td>\n",
       "      <td>Yes</td>\n",
       "      <td>No</td>\n",
       "      <td>No</td>\n",
       "    </tr>\n",
       "    <tr>\n",
       "      <th>freq</th>\n",
       "      <td>NaN</td>\n",
       "      <td>NaN</td>\n",
       "      <td>NaN</td>\n",
       "      <td>NaN</td>\n",
       "      <td>NaN</td>\n",
       "      <td>NaN</td>\n",
       "      <td>NaN</td>\n",
       "      <td>NaN</td>\n",
       "      <td>NaN</td>\n",
       "      <td>NaN</td>\n",
       "      <td>...</td>\n",
       "      <td>NaN</td>\n",
       "      <td>NaN</td>\n",
       "      <td>NaN</td>\n",
       "      <td>NaN</td>\n",
       "      <td>48145</td>\n",
       "      <td>61577</td>\n",
       "      <td>53792</td>\n",
       "      <td>59303</td>\n",
       "      <td>61569</td>\n",
       "      <td>50296</td>\n",
       "    </tr>\n",
       "    <tr>\n",
       "      <th>mean</th>\n",
       "      <td>2.037188e+06</td>\n",
       "      <td>287.721882</td>\n",
       "      <td>7.559619</td>\n",
       "      <td>30.192843</td>\n",
       "      <td>1.692728e+02</td>\n",
       "      <td>3.150413e+02</td>\n",
       "      <td>4.535760e+02</td>\n",
       "      <td>44.742957</td>\n",
       "      <td>150.732631</td>\n",
       "      <td>2.835465e+02</td>\n",
       "      <td>...</td>\n",
       "      <td>1.605400</td>\n",
       "      <td>-6.264182</td>\n",
       "      <td>-5.863664</td>\n",
       "      <td>1.205361</td>\n",
       "      <td>NaN</td>\n",
       "      <td>NaN</td>\n",
       "      <td>NaN</td>\n",
       "      <td>NaN</td>\n",
       "      <td>NaN</td>\n",
       "      <td>NaN</td>\n",
       "    </tr>\n",
       "    <tr>\n",
       "      <th>std</th>\n",
       "      <td>6.564178e+05</td>\n",
       "      <td>4233.906931</td>\n",
       "      <td>6.498952</td>\n",
       "      <td>792.869253</td>\n",
       "      <td>5.286742e+03</td>\n",
       "      <td>9.774362e+03</td>\n",
       "      <td>1.420201e+04</td>\n",
       "      <td>1373.805831</td>\n",
       "      <td>5224.959649</td>\n",
       "      <td>8.872270e+03</td>\n",
       "      <td>...</td>\n",
       "      <td>42.309229</td>\n",
       "      <td>25.537906</td>\n",
       "      <td>24.844514</td>\n",
       "      <td>29.981155</td>\n",
       "      <td>NaN</td>\n",
       "      <td>NaN</td>\n",
       "      <td>NaN</td>\n",
       "      <td>NaN</td>\n",
       "      <td>NaN</td>\n",
       "      <td>NaN</td>\n",
       "    </tr>\n",
       "    <tr>\n",
       "      <th>min</th>\n",
       "      <td>1.068628e+06</td>\n",
       "      <td>-2999.000000</td>\n",
       "      <td>0.000000</td>\n",
       "      <td>0.000000</td>\n",
       "      <td>0.000000e+00</td>\n",
       "      <td>0.000000e+00</td>\n",
       "      <td>0.000000e+00</td>\n",
       "      <td>0.000000</td>\n",
       "      <td>0.000000</td>\n",
       "      <td>0.000000e+00</td>\n",
       "      <td>...</td>\n",
       "      <td>0.000000</td>\n",
       "      <td>-99.000000</td>\n",
       "      <td>-99.000000</td>\n",
       "      <td>0.000000</td>\n",
       "      <td>NaN</td>\n",
       "      <td>NaN</td>\n",
       "      <td>NaN</td>\n",
       "      <td>NaN</td>\n",
       "      <td>NaN</td>\n",
       "      <td>NaN</td>\n",
       "    </tr>\n",
       "    <tr>\n",
       "      <th>25%</th>\n",
       "      <td>1.498574e+06</td>\n",
       "      <td>3.000000</td>\n",
       "      <td>4.000000</td>\n",
       "      <td>0.000000</td>\n",
       "      <td>0.000000e+00</td>\n",
       "      <td>0.000000e+00</td>\n",
       "      <td>0.000000e+00</td>\n",
       "      <td>0.000000</td>\n",
       "      <td>0.000000</td>\n",
       "      <td>0.000000e+00</td>\n",
       "      <td>...</td>\n",
       "      <td>0.000000</td>\n",
       "      <td>0.620000</td>\n",
       "      <td>0.640000</td>\n",
       "      <td>0.000000</td>\n",
       "      <td>NaN</td>\n",
       "      <td>NaN</td>\n",
       "      <td>NaN</td>\n",
       "      <td>NaN</td>\n",
       "      <td>NaN</td>\n",
       "      <td>NaN</td>\n",
       "    </tr>\n",
       "    <tr>\n",
       "      <th>50%</th>\n",
       "      <td>1.898033e+06</td>\n",
       "      <td>10.000000</td>\n",
       "      <td>8.000000</td>\n",
       "      <td>0.000000</td>\n",
       "      <td>0.000000e+00</td>\n",
       "      <td>0.000000e+00</td>\n",
       "      <td>0.000000e+00</td>\n",
       "      <td>0.000000</td>\n",
       "      <td>2.000000</td>\n",
       "      <td>4.000000e+00</td>\n",
       "      <td>...</td>\n",
       "      <td>0.000000</td>\n",
       "      <td>0.820000</td>\n",
       "      <td>0.800000</td>\n",
       "      <td>0.000000</td>\n",
       "      <td>NaN</td>\n",
       "      <td>NaN</td>\n",
       "      <td>NaN</td>\n",
       "      <td>NaN</td>\n",
       "      <td>NaN</td>\n",
       "      <td>NaN</td>\n",
       "    </tr>\n",
       "    <tr>\n",
       "      <th>75%</th>\n",
       "      <td>2.314826e+06</td>\n",
       "      <td>57.000000</td>\n",
       "      <td>8.000000</td>\n",
       "      <td>0.000000</td>\n",
       "      <td>1.200000e+01</td>\n",
       "      <td>2.500000e+01</td>\n",
       "      <td>3.600000e+01</td>\n",
       "      <td>6.000000</td>\n",
       "      <td>17.000000</td>\n",
       "      <td>3.400000e+01</td>\n",
       "      <td>...</td>\n",
       "      <td>0.000000</td>\n",
       "      <td>0.960000</td>\n",
       "      <td>0.950000</td>\n",
       "      <td>0.000000</td>\n",
       "      <td>NaN</td>\n",
       "      <td>NaN</td>\n",
       "      <td>NaN</td>\n",
       "      <td>NaN</td>\n",
       "      <td>NaN</td>\n",
       "      <td>NaN</td>\n",
       "    </tr>\n",
       "    <tr>\n",
       "      <th>max</th>\n",
       "      <td>3.284895e+06</td>\n",
       "      <td>673445.000000</td>\n",
       "      <td>52.000000</td>\n",
       "      <td>170976.000000</td>\n",
       "      <td>1.126656e+06</td>\n",
       "      <td>2.094336e+06</td>\n",
       "      <td>3.062016e+06</td>\n",
       "      <td>295197.000000</td>\n",
       "      <td>934593.000000</td>\n",
       "      <td>1.799099e+06</td>\n",
       "      <td>...</td>\n",
       "      <td>7392.000000</td>\n",
       "      <td>1.000000</td>\n",
       "      <td>1.000000</td>\n",
       "      <td>2999.000000</td>\n",
       "      <td>NaN</td>\n",
       "      <td>NaN</td>\n",
       "      <td>NaN</td>\n",
       "      <td>NaN</td>\n",
       "      <td>NaN</td>\n",
       "      <td>NaN</td>\n",
       "    </tr>\n",
       "  </tbody>\n",
       "</table>\n",
       "<p>11 rows × 23 columns</p>\n",
       "</div>"
      ],
      "text/plain": [
       "                 sku   national_inv     lead_time  in_transit_qty  \\\n",
       "count   6.158900e+04   61589.000000  58186.000000    61589.000000   \n",
       "unique           NaN            NaN           NaN             NaN   \n",
       "top              NaN            NaN           NaN             NaN   \n",
       "freq             NaN            NaN           NaN             NaN   \n",
       "mean    2.037188e+06     287.721882      7.559619       30.192843   \n",
       "std     6.564178e+05    4233.906931      6.498952      792.869253   \n",
       "min     1.068628e+06   -2999.000000      0.000000        0.000000   \n",
       "25%     1.498574e+06       3.000000      4.000000        0.000000   \n",
       "50%     1.898033e+06      10.000000      8.000000        0.000000   \n",
       "75%     2.314826e+06      57.000000      8.000000        0.000000   \n",
       "max     3.284895e+06  673445.000000     52.000000   170976.000000   \n",
       "\n",
       "        forecast_3_month  forecast_6_month  forecast_9_month  sales_1_month  \\\n",
       "count       6.158900e+04      6.158900e+04      6.158900e+04   61589.000000   \n",
       "unique               NaN               NaN               NaN            NaN   \n",
       "top                  NaN               NaN               NaN            NaN   \n",
       "freq                 NaN               NaN               NaN            NaN   \n",
       "mean        1.692728e+02      3.150413e+02      4.535760e+02      44.742957   \n",
       "std         5.286742e+03      9.774362e+03      1.420201e+04    1373.805831   \n",
       "min         0.000000e+00      0.000000e+00      0.000000e+00       0.000000   \n",
       "25%         0.000000e+00      0.000000e+00      0.000000e+00       0.000000   \n",
       "50%         0.000000e+00      0.000000e+00      0.000000e+00       0.000000   \n",
       "75%         1.200000e+01      2.500000e+01      3.600000e+01       6.000000   \n",
       "max         1.126656e+06      2.094336e+06      3.062016e+06  295197.000000   \n",
       "\n",
       "        sales_3_month  sales_6_month        ...         pieces_past_due  \\\n",
       "count    61589.000000   6.158900e+04        ...            61589.000000   \n",
       "unique            NaN            NaN        ...                     NaN   \n",
       "top               NaN            NaN        ...                     NaN   \n",
       "freq              NaN            NaN        ...                     NaN   \n",
       "mean       150.732631   2.835465e+02        ...                1.605400   \n",
       "std       5224.959649   8.872270e+03        ...               42.309229   \n",
       "min          0.000000   0.000000e+00        ...                0.000000   \n",
       "25%          0.000000   0.000000e+00        ...                0.000000   \n",
       "50%          2.000000   4.000000e+00        ...                0.000000   \n",
       "75%         17.000000   3.400000e+01        ...                0.000000   \n",
       "max     934593.000000   1.799099e+06        ...             7392.000000   \n",
       "\n",
       "        perf_6_month_avg perf_12_month_avg  local_bo_qty  deck_risk  \\\n",
       "count       61589.000000      61589.000000  61589.000000      61589   \n",
       "unique               NaN               NaN           NaN          2   \n",
       "top                  NaN               NaN           NaN         No   \n",
       "freq                 NaN               NaN           NaN      48145   \n",
       "mean           -6.264182         -5.863664      1.205361        NaN   \n",
       "std            25.537906         24.844514     29.981155        NaN   \n",
       "min           -99.000000        -99.000000      0.000000        NaN   \n",
       "25%             0.620000          0.640000      0.000000        NaN   \n",
       "50%             0.820000          0.800000      0.000000        NaN   \n",
       "75%             0.960000          0.950000      0.000000        NaN   \n",
       "max             1.000000          1.000000   2999.000000        NaN   \n",
       "\n",
       "        oe_constraint  ppap_risk stop_auto_buy rev_stop went_on_backorder  \n",
       "count           61589      61589         61589    61589             61589  \n",
       "unique              2          2             2        2                 2  \n",
       "top                No         No           Yes       No                No  \n",
       "freq            61577      53792         59303    61569             50296  \n",
       "mean              NaN        NaN           NaN      NaN               NaN  \n",
       "std               NaN        NaN           NaN      NaN               NaN  \n",
       "min               NaN        NaN           NaN      NaN               NaN  \n",
       "25%               NaN        NaN           NaN      NaN               NaN  \n",
       "50%               NaN        NaN           NaN      NaN               NaN  \n",
       "75%               NaN        NaN           NaN      NaN               NaN  \n",
       "max               NaN        NaN           NaN      NaN               NaN  \n",
       "\n",
       "[11 rows x 23 columns]"
      ]
     },
     "execution_count": 9,
     "metadata": {},
     "output_type": "execute_result"
    }
   ],
   "source": [
    "data.describe(include='all')"
   ]
  },
  {
   "cell_type": "markdown",
   "metadata": {},
   "source": [
    "Display data type of each variable"
   ]
  },
  {
   "cell_type": "code",
   "execution_count": 10,
   "metadata": {},
   "outputs": [
    {
     "data": {
      "text/plain": [
       "sku                    int64\n",
       "national_inv           int64\n",
       "lead_time            float64\n",
       "in_transit_qty         int64\n",
       "forecast_3_month       int64\n",
       "forecast_6_month       int64\n",
       "forecast_9_month       int64\n",
       "sales_1_month          int64\n",
       "sales_3_month          int64\n",
       "sales_6_month          int64\n",
       "sales_9_month          int64\n",
       "min_bank               int64\n",
       "potential_issue       object\n",
       "pieces_past_due        int64\n",
       "perf_6_month_avg     float64\n",
       "perf_12_month_avg    float64\n",
       "local_bo_qty           int64\n",
       "deck_risk             object\n",
       "oe_constraint         object\n",
       "ppap_risk             object\n",
       "stop_auto_buy         object\n",
       "rev_stop              object\n",
       "went_on_backorder     object\n",
       "dtype: object"
      ]
     },
     "execution_count": 10,
     "metadata": {},
     "output_type": "execute_result"
    }
   ],
   "source": [
    "data.dtypes"
   ]
  },
  {
   "cell_type": "markdown",
   "metadata": {},
   "source": [
    "#### Observations\n",
    "\n",
    "sku is Categorical but is interpreted as int64 \n",
    "potential_issue, deck_risk, oe_constraint, ppap_risk, stop_auto_buy, rev_stop, and went_on_backorder are also \n",
    "categorical but is interpreted as object. "
   ]
  },
  {
   "cell_type": "markdown",
   "metadata": {},
   "source": [
    "#### Convert all the attributes to appropriate type"
   ]
  },
  {
   "cell_type": "markdown",
   "metadata": {},
   "source": [
    "Data type conversion\n",
    "\n",
    "    Using astype('category') to convert potential_issue, deck_risk, oe_constraint, ppap_risk, stop_auto_buy, rev_stop, and went_on_backorder attributes to categorical attributes.\n"
   ]
  },
  {
   "cell_type": "code",
   "execution_count": 11,
   "metadata": {},
   "outputs": [],
   "source": [
    "for col in ['sku', 'potential_issue', 'deck_risk', 'oe_constraint', 'ppap_risk', 'stop_auto_buy', 'rev_stop', 'went_on_backorder']:\n",
    "    data[col] = data[col].astype('category')"
   ]
  },
  {
   "cell_type": "markdown",
   "metadata": {},
   "source": [
    "Display data type of each variable"
   ]
  },
  {
   "cell_type": "code",
   "execution_count": 12,
   "metadata": {},
   "outputs": [
    {
     "data": {
      "text/plain": [
       "sku                  category\n",
       "national_inv            int64\n",
       "lead_time             float64\n",
       "in_transit_qty          int64\n",
       "forecast_3_month        int64\n",
       "forecast_6_month        int64\n",
       "forecast_9_month        int64\n",
       "sales_1_month           int64\n",
       "sales_3_month           int64\n",
       "sales_6_month           int64\n",
       "sales_9_month           int64\n",
       "min_bank                int64\n",
       "potential_issue      category\n",
       "pieces_past_due         int64\n",
       "perf_6_month_avg      float64\n",
       "perf_12_month_avg     float64\n",
       "local_bo_qty            int64\n",
       "deck_risk            category\n",
       "oe_constraint        category\n",
       "ppap_risk            category\n",
       "stop_auto_buy        category\n",
       "rev_stop             category\n",
       "went_on_backorder    category\n",
       "dtype: object"
      ]
     },
     "execution_count": 12,
     "metadata": {},
     "output_type": "execute_result"
    }
   ],
   "source": [
    "data.dtypes"
   ]
  },
  {
   "cell_type": "markdown",
   "metadata": {},
   "source": [
    "##### Delete sku attribute"
   ]
  },
  {
   "cell_type": "code",
   "execution_count": 13,
   "metadata": {},
   "outputs": [
    {
     "data": {
      "text/plain": [
       "61589"
      ]
     },
     "execution_count": 13,
     "metadata": {},
     "output_type": "execute_result"
    }
   ],
   "source": [
    "np.size(np.unique(data.sku))"
   ]
  },
  {
   "cell_type": "code",
   "execution_count": 14,
   "metadata": {},
   "outputs": [],
   "source": [
    "data.drop('sku', axis=1, inplace=True)"
   ]
  },
  {
   "cell_type": "markdown",
   "metadata": {},
   "source": [
    "#### Missing Data\n",
    "\n",
    "Missing value analysis and dropping the records with missing values"
   ]
  },
  {
   "cell_type": "code",
   "execution_count": 15,
   "metadata": {},
   "outputs": [
    {
     "data": {
      "text/plain": [
       "national_inv            0\n",
       "lead_time            3403\n",
       "in_transit_qty          0\n",
       "forecast_3_month        0\n",
       "forecast_6_month        0\n",
       "forecast_9_month        0\n",
       "sales_1_month           0\n",
       "sales_3_month           0\n",
       "sales_6_month           0\n",
       "sales_9_month           0\n",
       "min_bank                0\n",
       "potential_issue         0\n",
       "pieces_past_due         0\n",
       "perf_6_month_avg        0\n",
       "perf_12_month_avg       0\n",
       "local_bo_qty            0\n",
       "deck_risk               0\n",
       "oe_constraint           0\n",
       "ppap_risk               0\n",
       "stop_auto_buy           0\n",
       "rev_stop                0\n",
       "went_on_backorder       0\n",
       "dtype: int64"
      ]
     },
     "execution_count": 15,
     "metadata": {},
     "output_type": "execute_result"
    }
   ],
   "source": [
    "data.isnull().sum()"
   ]
  },
  {
   "cell_type": "markdown",
   "metadata": {},
   "source": [
    "Observing the number of records before and after missing value records removal"
   ]
  },
  {
   "cell_type": "code",
   "execution_count": 16,
   "metadata": {},
   "outputs": [
    {
     "name": "stdout",
     "output_type": "stream",
     "text": [
      "(61589, 22)\n"
     ]
    }
   ],
   "source": [
    "print (data.shape)"
   ]
  },
  {
   "cell_type": "code",
   "execution_count": 17,
   "metadata": {},
   "outputs": [],
   "source": [
    "#Since the number of missing values is about 5%. For initial analysis we ignore all these records\n",
    "data = data.dropna(axis=0)"
   ]
  },
  {
   "cell_type": "code",
   "execution_count": 18,
   "metadata": {},
   "outputs": [
    {
     "name": "stdout",
     "output_type": "stream",
     "text": [
      "national_inv         0\n",
      "lead_time            0\n",
      "in_transit_qty       0\n",
      "forecast_3_month     0\n",
      "forecast_6_month     0\n",
      "forecast_9_month     0\n",
      "sales_1_month        0\n",
      "sales_3_month        0\n",
      "sales_6_month        0\n",
      "sales_9_month        0\n",
      "min_bank             0\n",
      "potential_issue      0\n",
      "pieces_past_due      0\n",
      "perf_6_month_avg     0\n",
      "perf_12_month_avg    0\n",
      "local_bo_qty         0\n",
      "deck_risk            0\n",
      "oe_constraint        0\n",
      "ppap_risk            0\n",
      "stop_auto_buy        0\n",
      "rev_stop             0\n",
      "went_on_backorder    0\n",
      "dtype: int64\n",
      "----------------------------------\n",
      "(58186, 22)\n"
     ]
    }
   ],
   "source": [
    "print(data.isnull().sum())\n",
    "print(\"----------------------------------\")\n",
    "print(data.shape)"
   ]
  },
  {
   "cell_type": "markdown",
   "metadata": {},
   "source": [
    "#### Converting Categorical to Numeric\n",
    "\n",
    "For some of the models all the independent attribute should be of type numeric and ANN model is one among them.\n",
    "But this data set has some categorial attributes.\n",
    "\n",
    "'pandas.get_dummies' To convert convert categorical variable into dummy/indicator variables\n"
   ]
  },
  {
   "cell_type": "code",
   "execution_count": 19,
   "metadata": {},
   "outputs": [
    {
     "name": "stdout",
     "output_type": "stream",
     "text": [
      "Index(['national_inv', 'lead_time', 'in_transit_qty', 'forecast_3_month',\n",
      "       'forecast_6_month', 'forecast_9_month', 'sales_1_month',\n",
      "       'sales_3_month', 'sales_6_month', 'sales_9_month', 'min_bank',\n",
      "       'potential_issue', 'pieces_past_due', 'perf_6_month_avg',\n",
      "       'perf_12_month_avg', 'local_bo_qty', 'deck_risk', 'oe_constraint',\n",
      "       'ppap_risk', 'stop_auto_buy', 'rev_stop', 'went_on_backorder'],\n",
      "      dtype='object')\n"
     ]
    }
   ],
   "source": [
    "print (data.columns)"
   ]
  },
  {
   "cell_type": "markdown",
   "metadata": {},
   "source": [
    "##### Creating dummy variables.\n",
    "\n",
    "If we have k levels in a category, then we create k-1 dummy variables as the last one would be redundant. So we use the parameter drop_first in pd.get_dummies function that drops the first level in each of the category\n"
   ]
  },
  {
   "cell_type": "code",
   "execution_count": 20,
   "metadata": {},
   "outputs": [],
   "source": [
    "categorical_Attributes = data.select_dtypes(include=['category']).columns"
   ]
  },
  {
   "cell_type": "code",
   "execution_count": 21,
   "metadata": {},
   "outputs": [],
   "source": [
    "data = pd.get_dummies(columns=categorical_Attributes, data=data, prefix=categorical_Attributes, prefix_sep=\"_\",drop_first=True)"
   ]
  },
  {
   "cell_type": "code",
   "execution_count": 22,
   "metadata": {},
   "outputs": [
    {
     "name": "stdout",
     "output_type": "stream",
     "text": [
      "Index(['national_inv', 'lead_time', 'in_transit_qty', 'forecast_3_month',\n",
      "       'forecast_6_month', 'forecast_9_month', 'sales_1_month',\n",
      "       'sales_3_month', 'sales_6_month', 'sales_9_month', 'min_bank',\n",
      "       'pieces_past_due', 'perf_6_month_avg', 'perf_12_month_avg',\n",
      "       'local_bo_qty', 'potential_issue_Yes', 'deck_risk_Yes',\n",
      "       'oe_constraint_Yes', 'ppap_risk_Yes', 'stop_auto_buy_Yes',\n",
      "       'rev_stop_Yes', 'went_on_backorder_Yes'],\n",
      "      dtype='object') (58186, 22)\n"
     ]
    }
   ],
   "source": [
    "print (data.columns, data.shape)"
   ]
  },
  {
   "cell_type": "markdown",
   "metadata": {},
   "source": [
    "#### Target attribute distribution"
   ]
  },
  {
   "cell_type": "code",
   "execution_count": 23,
   "metadata": {},
   "outputs": [
    {
     "data": {
      "text/plain": [
       "0    47217\n",
       "1    10969\n",
       "Name: went_on_backorder_Yes, dtype: int64"
      ]
     },
     "execution_count": 23,
     "metadata": {},
     "output_type": "execute_result"
    }
   ],
   "source": [
    "pd.value_counts(data['went_on_backorder_Yes'])"
   ]
  },
  {
   "cell_type": "markdown",
   "metadata": {},
   "source": [
    "#### Train-Test Split\n",
    "\n",
    "Using sklearn.model_selection.train_test_split\n",
    "\n",
    "    Split arrays or matrices into train and test subsets"
   ]
  },
  {
   "cell_type": "code",
   "execution_count": 24,
   "metadata": {},
   "outputs": [],
   "source": [
    "#Performing train test split on the data\n",
    "X, y = data.loc[:,data.columns!='went_on_backorder_Yes'].values, data.loc[:,'went_on_backorder_Yes'].values\n",
    "\n",
    "X_train, X_test, y_train, y_test = train_test_split(X, y, test_size=0.3, random_state=123, stratify = data['went_on_backorder_Yes'])\n"
   ]
  },
  {
   "cell_type": "code",
   "execution_count": 25,
   "metadata": {},
   "outputs": [
    {
     "name": "stdout",
     "output_type": "stream",
     "text": [
      "0    33052\n",
      "1     7678\n",
      "dtype: int64\n",
      "0    14165\n",
      "1     3291\n",
      "dtype: int64\n"
     ]
    }
   ],
   "source": [
    "#To get the distribution in the target in train and test\n",
    "print(pd.value_counts(y_train))\n",
    "print(pd.value_counts(y_test))"
   ]
  },
  {
   "cell_type": "markdown",
   "metadata": {},
   "source": [
    "-------------------------------------------------------------------------------------------------------------------\n",
    "-------------------------------------------------------------------------------------------------------------------"
   ]
  },
  {
   "cell_type": "markdown",
   "metadata": {},
   "source": [
    "### Logistic Regression Modelling"
   ]
  },
  {
   "cell_type": "markdown",
   "metadata": {},
   "source": [
    "##### Building a logistic regression model using sklearn"
   ]
  },
  {
   "cell_type": "code",
   "execution_count": 26,
   "metadata": {},
   "outputs": [],
   "source": [
    "classifier = LogisticRegression(random_state=123)"
   ]
  },
  {
   "cell_type": "code",
   "execution_count": 27,
   "metadata": {},
   "outputs": [
    {
     "data": {
      "text/plain": [
       "LogisticRegression(C=1.0, class_weight=None, dual=False, fit_intercept=True,\n",
       "          intercept_scaling=1, max_iter=100, multi_class='ovr', n_jobs=1,\n",
       "          penalty='l2', random_state=123, solver='liblinear', tol=0.0001,\n",
       "          verbose=0, warm_start=False)"
      ]
     },
     "execution_count": 27,
     "metadata": {},
     "output_type": "execute_result"
    }
   ],
   "source": [
    "classifier.fit(X_train, y_train)"
   ]
  },
  {
   "cell_type": "markdown",
   "metadata": {},
   "source": [
    "##### Predictions"
   ]
  },
  {
   "cell_type": "code",
   "execution_count": 28,
   "metadata": {},
   "outputs": [],
   "source": [
    "# Predictions on train data\n",
    "train_pred = classifier.predict(X_train)\n",
    "# Predictions on test data\n",
    "test_pred = classifier.predict(X_test)"
   ]
  },
  {
   "cell_type": "markdown",
   "metadata": {},
   "source": [
    "##### Confusion Matrix"
   ]
  },
  {
   "cell_type": "code",
   "execution_count": 29,
   "metadata": {},
   "outputs": [
    {
     "name": "stdout",
     "output_type": "stream",
     "text": [
      "Confusion Matrix - Train Data: \n",
      " [[32927   125]\n",
      " [ 7094   584]]\n",
      "Confusion Matrix - Test Data: \n",
      " [[14118    47]\n",
      " [ 3036   255]]\n"
     ]
    }
   ],
   "source": [
    "# Train data\n",
    "confusion_matrix_train = confusion_matrix(y_train, train_pred)\n",
    "print(\"Confusion Matrix - Train Data: \\n\", confusion_matrix_train)\n",
    "# Test data\n",
    "confusion_matrix_test= confusion_matrix(y_test, test_pred)\n",
    "print(\"Confusion Matrix - Test Data: \\n\", confusion_matrix_test)"
   ]
  },
  {
   "cell_type": "markdown",
   "metadata": {},
   "source": [
    "##### Error Metrics"
   ]
  },
  {
   "cell_type": "code",
   "execution_count": 30,
   "metadata": {},
   "outputs": [
    {
     "name": "stdout",
     "output_type": "stream",
     "text": [
      "Train Specificity:  0.9962180806002663\n",
      "Train Recall:  0.07606147434227663\n",
      "Train Precision:  0.8236953455571228\n",
      "Train Accuracy:  0.8227596366314756\n"
     ]
    }
   ],
   "source": [
    "# Metrics on train data for logistic regression model\n",
    "#Accuracy\n",
    "accuracy_Train_logReg = (confusion_matrix_train[0,0]+confusion_matrix_train[1,1])/(confusion_matrix_train[0,0]+confusion_matrix_train[0,1]+confusion_matrix_train[1,0]+confusion_matrix_train[1,1])\n",
    "#specificity or true negative rate (TNR)\n",
    "specificity_Train_logReg = confusion_matrix_train[0,0]/(confusion_matrix_train[0,0]+confusion_matrix_train[0,1])\n",
    "#sensitivity, recall, hit rate, or true positive rate (TPR)\n",
    "recall_Train_logReg = confusion_matrix_train[1,1]/(confusion_matrix_train[1,0]+confusion_matrix_train[1,1])\n",
    "#precision\n",
    "precision_Train_logReg = confusion_matrix_train[1,1]/(confusion_matrix_train[0,1]+confusion_matrix_train[1,1])\n",
    "\n",
    "print(\"Train Specificity: \",specificity_Train_logReg)\n",
    "print(\"Train Recall: \",recall_Train_logReg)\n",
    "print(\"Train Precision: \",precision_Train_logReg)\n",
    "print(\"Train Accuracy: \",accuracy_Train_logReg)"
   ]
  },
  {
   "cell_type": "code",
   "execution_count": 31,
   "metadata": {},
   "outputs": [
    {
     "name": "stdout",
     "output_type": "stream",
     "text": [
      "Test Specificity:  0.9966819625838333\n",
      "Test Recall:  0.07748404740200547\n",
      "Test Precision:  0.8443708609271523\n",
      "Test Accuracy:  0.823384509624198\n"
     ]
    }
   ],
   "source": [
    "# Metrics on test data\n",
    "#Accuracy\n",
    "accuracy_Test_logReg = (confusion_matrix_test[0,0]+confusion_matrix_test[1,1])/(confusion_matrix_test[0,0]+confusion_matrix_test[0,1]+confusion_matrix_test[1,0]+confusion_matrix_test[1,1])\n",
    "#specificity or true negative rate (TNR)\n",
    "specificity_Test_logReg = confusion_matrix_test[0,0]/(confusion_matrix_test[0,0]+confusion_matrix_test[0,1])\n",
    "#sensitivity, recall, hit rate, or true positive rate (TPR)\n",
    "recall_Test_logReg = confusion_matrix_test[1,1]/(confusion_matrix_test[1,0]+confusion_matrix_test[1,1])\n",
    "#precision\n",
    "precision_Test_logReg = confusion_matrix_test[1,1]/(confusion_matrix_test[0,1]+confusion_matrix_test[1,1])\n",
    "\n",
    "print(\"Test Specificity: \",specificity_Test_logReg)\n",
    "print(\"Test Recall: \",recall_Test_logReg)\n",
    "print(\"Test Precision: \",precision_Test_logReg)\n",
    "print(\"Test Accuracy: \",accuracy_Test_logReg)"
   ]
  },
  {
   "cell_type": "markdown",
   "metadata": {},
   "source": [
    "-------------------------------------------------------------------------------------------------------------------\n",
    "-------------------------------------------------------------------------------------------------------------------"
   ]
  },
  {
   "cell_type": "markdown",
   "metadata": {},
   "source": [
    "## Introduction to Keras"
   ]
  },
  {
   "cell_type": "markdown",
   "metadata": {},
   "source": [
    "![](img/fc_dense_layers_keras.jpg)"
   ]
  },
  {
   "cell_type": "markdown",
   "metadata": {},
   "source": [
    "##### A. The core data structure of Keras is a model, a way to organize layers. The simplest type of model is the Sequential model, a linear stack of layers. \n",
    "\n",
    "* The keras sequential api enables us to build common yet complex neural network architectures flexibly\n",
    "\n",
    "* Objects of the Keras sequential class, can have multiple neural network layers stacked on top of one another\n",
    "\n",
    "![](img/keras_sequential_api.jpg)"
   ]
  },
  {
   "cell_type": "code",
   "execution_count": 32,
   "metadata": {},
   "outputs": [],
   "source": [
    "from keras.models import Sequential\n",
    "\n",
    "model = Sequential()"
   ]
  },
  {
   "cell_type": "code",
   "execution_count": 33,
   "metadata": {},
   "outputs": [],
   "source": [
    "from keras.layers import Dense\n",
    "\n",
    "model.add(Dense(units=64, input_dim=21, activation='sigmoid'))\n",
    "model.add(Dense(units=1, activation='sigmoid'))"
   ]
  },
  {
   "cell_type": "code",
   "execution_count": 34,
   "metadata": {},
   "outputs": [
    {
     "name": "stdout",
     "output_type": "stream",
     "text": [
      "_________________________________________________________________\n",
      "Layer (type)                 Output Shape              Param #   \n",
      "=================================================================\n",
      "dense_1 (Dense)              (None, 64)                1408      \n",
      "_________________________________________________________________\n",
      "dense_2 (Dense)              (None, 1)                 65        \n",
      "=================================================================\n",
      "Total params: 1,473\n",
      "Trainable params: 1,473\n",
      "Non-trainable params: 0\n",
      "_________________________________________________________________\n"
     ]
    }
   ],
   "source": [
    "model.summary()"
   ]
  },
  {
   "cell_type": "markdown",
   "metadata": {},
   "source": [
    "##### B. Compilation\n",
    "Before training a model, you need to configure the learning process, which is done via the compile method. receives three arguments\n",
    "\n",
    "* optimizer - An optimizer. An optimizer is an algorithm that uses this feedback signal, to actually update the weights so that the output from the network gets closer to the ground truth.\n",
    "* loss - A loss function. This is the objective function that the model will try to minimize.\n",
    "* metrics - A list of error metrics. This is for users reference and does not add value to the weights calculations."
   ]
  },
  {
   "cell_type": "code",
   "execution_count": 35,
   "metadata": {},
   "outputs": [],
   "source": [
    "model.compile(loss = 'binary_crossentropy', optimizer = 'sgd', metrics = ['accuracy'])"
   ]
  },
  {
   "cell_type": "markdown",
   "metadata": {},
   "source": [
    "##### C. Training\n",
    "Keras models are trained on Numpy arrays of input data and labels. For training a model, you will typically use the  fit function\n",
    "\n",
    "* epoch = one forward pass and one backward pass of all the training examples\n",
    "* batch size = the number of training examples in one forward/backward pass. The higher the batch size, the more memory space you'll need.\n"
   ]
  },
  {
   "cell_type": "code",
   "execution_count": 36,
   "metadata": {},
   "outputs": [
    {
     "name": "stdout",
     "output_type": "stream",
     "text": [
      "Epoch 1/100\n",
      "40730/40730 [==============================] - 1s 27us/step - loss: 0.3396 - acc: 0.8408\n",
      "Epoch 2/100\n",
      "40730/40730 [==============================] - 1s 23us/step - loss: 0.2805 - acc: 0.8788: 0s - loss: 0.2804 - acc:\n",
      "Epoch 3/100\n",
      "40730/40730 [==============================] - 1s 20us/step - loss: 0.2676 - acc: 0.8871\n",
      "Epoch 4/100\n",
      "40730/40730 [==============================] - 1s 24us/step - loss: 0.2577 - acc: 0.8902\n",
      "Epoch 5/100\n",
      "40730/40730 [==============================] - 1s 21us/step - loss: 0.2552 - acc: 0.8922\n",
      "Epoch 6/100\n",
      "40730/40730 [==============================] - 1s 24us/step - loss: 0.2537 - acc: 0.8938\n",
      "Epoch 7/100\n",
      "40730/40730 [==============================] - 1s 21us/step - loss: 0.2536 - acc: 0.8931\n",
      "Epoch 8/100\n",
      "40730/40730 [==============================] - 1s 22us/step - loss: 0.2532 - acc: 0.8939\n",
      "Epoch 9/100\n",
      "40730/40730 [==============================] - 1s 23us/step - loss: 0.2517 - acc: 0.8940\n",
      "Epoch 10/100\n",
      "40730/40730 [==============================] - 1s 24us/step - loss: 0.2518 - acc: 0.8946\n",
      "Epoch 11/100\n",
      "40730/40730 [==============================] - 1s 29us/step - loss: 0.2514 - acc: 0.8949\n",
      "Epoch 12/100\n",
      "40730/40730 [==============================] - 1s 26us/step - loss: 0.2501 - acc: 0.8940\n",
      "Epoch 13/100\n",
      "40730/40730 [==============================] - 1s 22us/step - loss: 0.2481 - acc: 0.8957\n",
      "Epoch 14/100\n",
      "40730/40730 [==============================] - 1s 19us/step - loss: 0.2499 - acc: 0.8944\n",
      "Epoch 15/100\n",
      "40730/40730 [==============================] - 1s 22us/step - loss: 0.2489 - acc: 0.8953\n",
      "Epoch 16/100\n",
      "40730/40730 [==============================] - 1s 19us/step - loss: 0.2490 - acc: 0.8951\n",
      "Epoch 17/100\n",
      "40730/40730 [==============================] - 1s 21us/step - loss: 0.2506 - acc: 0.8948\n",
      "Epoch 18/100\n",
      "40730/40730 [==============================] - 1s 20us/step - loss: 0.2460 - acc: 0.8970\n",
      "Epoch 19/100\n",
      "40730/40730 [==============================] - 1s 20us/step - loss: 0.2470 - acc: 0.8960\n",
      "Epoch 20/100\n",
      "40730/40730 [==============================] - 1s 18us/step - loss: 0.2469 - acc: 0.8971\n",
      "Epoch 21/100\n",
      "40730/40730 [==============================] - 1s 20us/step - loss: 0.2451 - acc: 0.8971\n",
      "Epoch 22/100\n",
      "40730/40730 [==============================] - 1s 18us/step - loss: 0.2463 - acc: 0.8968\n",
      "Epoch 23/100\n",
      "40730/40730 [==============================] - 1s 20us/step - loss: 0.2488 - acc: 0.8957\n",
      "Epoch 24/100\n",
      "40730/40730 [==============================] - 1s 18us/step - loss: 0.2484 - acc: 0.8962\n",
      "Epoch 25/100\n",
      "40730/40730 [==============================] - 1s 21us/step - loss: 0.2471 - acc: 0.8972: 0s - loss: 0.2569 - a\n",
      "Epoch 26/100\n",
      "40730/40730 [==============================] - 1s 17us/step - loss: 0.2477 - acc: 0.8961\n",
      "Epoch 27/100\n",
      "40730/40730 [==============================] - 1s 22us/step - loss: 0.2490 - acc: 0.8958\n",
      "Epoch 28/100\n",
      "40730/40730 [==============================] - 1s 18us/step - loss: 0.2475 - acc: 0.8974\n",
      "Epoch 29/100\n",
      "40730/40730 [==============================] - 1s 23us/step - loss: 0.2483 - acc: 0.8975: 0s - loss: 0.2501 - acc:\n",
      "Epoch 30/100\n",
      "40730/40730 [==============================] - 1s 18us/step - loss: 0.2476 - acc: 0.8971\n",
      "Epoch 31/100\n",
      "40730/40730 [==============================] - 1s 21us/step - loss: 0.2444 - acc: 0.8984\n",
      "Epoch 32/100\n",
      "40730/40730 [==============================] - 1s 18us/step - loss: 0.2426 - acc: 0.8993\n",
      "Epoch 33/100\n",
      "40730/40730 [==============================] - 1s 20us/step - loss: 0.2433 - acc: 0.8986\n",
      "Epoch 34/100\n",
      "40730/40730 [==============================] - 1s 18us/step - loss: 0.2416 - acc: 0.9000\n",
      "Epoch 35/100\n",
      "40730/40730 [==============================] - 1s 21us/step - loss: 0.2419 - acc: 0.8989\n",
      "Epoch 36/100\n",
      "40730/40730 [==============================] - 1s 18us/step - loss: 0.2475 - acc: 0.8974\n",
      "Epoch 37/100\n",
      "40730/40730 [==============================] - 1s 21us/step - loss: 0.2474 - acc: 0.8971\n",
      "Epoch 38/100\n",
      "40730/40730 [==============================] - 1s 18us/step - loss: 0.2407 - acc: 0.9006\n",
      "Epoch 39/100\n",
      "40730/40730 [==============================] - 1s 21us/step - loss: 0.2419 - acc: 0.8995\n",
      "Epoch 40/100\n",
      "40730/40730 [==============================] - 1s 19us/step - loss: 0.2408 - acc: 0.9006\n",
      "Epoch 41/100\n",
      "40730/40730 [==============================] - 1s 20us/step - loss: 0.2474 - acc: 0.8976\n",
      "Epoch 42/100\n",
      "40730/40730 [==============================] - 1s 18us/step - loss: 0.2468 - acc: 0.8975\n",
      "Epoch 43/100\n",
      "40730/40730 [==============================] - 1s 20us/step - loss: 0.2456 - acc: 0.8991\n",
      "Epoch 44/100\n",
      "40730/40730 [==============================] - 1s 18us/step - loss: 0.2442 - acc: 0.8987\n",
      "Epoch 45/100\n",
      "40730/40730 [==============================] - 1s 20us/step - loss: 0.2440 - acc: 0.9001\n",
      "Epoch 46/100\n",
      "40730/40730 [==============================] - 1s 19us/step - loss: 0.2444 - acc: 0.8989\n",
      "Epoch 47/100\n",
      "40730/40730 [==============================] - 1s 19us/step - loss: 0.2448 - acc: 0.8981\n",
      "Epoch 48/100\n",
      "40730/40730 [==============================] - 1s 21us/step - loss: 0.2500 - acc: 0.8959: 0s - loss: 0.2438 - ac\n",
      "Epoch 49/100\n",
      "40730/40730 [==============================] - 1s 19us/step - loss: 0.2467 - acc: 0.8988\n",
      "Epoch 50/100\n",
      "40730/40730 [==============================] - 1s 20us/step - loss: 0.2459 - acc: 0.8986\n",
      "Epoch 51/100\n",
      "40730/40730 [==============================] - 1s 19us/step - loss: 0.2435 - acc: 0.9013\n",
      "Epoch 52/100\n",
      "40730/40730 [==============================] - 1s 19us/step - loss: 0.2561 - acc: 0.8934\n",
      "Epoch 53/100\n",
      "40730/40730 [==============================] - 1s 20us/step - loss: 0.2531 - acc: 0.8957\n",
      "Epoch 54/100\n",
      "40730/40730 [==============================] - 1s 20us/step - loss: 0.2498 - acc: 0.8967\n",
      "Epoch 55/100\n",
      "40730/40730 [==============================] - 1s 19us/step - loss: 0.2427 - acc: 0.8998\n",
      "Epoch 56/100\n",
      "40730/40730 [==============================] - 1s 25us/step - loss: 0.2498 - acc: 0.8960\n",
      "Epoch 57/100\n",
      "40730/40730 [==============================] - 2s 37us/step - loss: 0.2460 - acc: 0.8992\n",
      "Epoch 58/100\n",
      "40730/40730 [==============================] - 1s 22us/step - loss: 0.2417 - acc: 0.9011\n",
      "Epoch 59/100\n",
      "40730/40730 [==============================] - 1s 26us/step - loss: 0.2413 - acc: 0.9007\n",
      "Epoch 60/100\n",
      "40730/40730 [==============================] - 1s 29us/step - loss: 0.2428 - acc: 0.9001\n",
      "Epoch 61/100\n",
      "40730/40730 [==============================] - 1s 20us/step - loss: 0.2403 - acc: 0.9011\n",
      "Epoch 62/100\n",
      "40730/40730 [==============================] - 1s 19us/step - loss: 0.2461 - acc: 0.8993\n",
      "Epoch 63/100\n",
      "40730/40730 [==============================] - 1s 22us/step - loss: 0.2518 - acc: 0.8967\n",
      "Epoch 64/100\n",
      "40730/40730 [==============================] - 1s 24us/step - loss: 0.2496 - acc: 0.8961\n",
      "Epoch 65/100\n",
      "40730/40730 [==============================] - 1s 25us/step - loss: 0.2463 - acc: 0.8967\n",
      "Epoch 66/100\n",
      "40730/40730 [==============================] - 1s 26us/step - loss: 0.2436 - acc: 0.8988\n",
      "Epoch 67/100\n",
      "40730/40730 [==============================] - 1s 24us/step - loss: 0.2428 - acc: 0.8998\n",
      "Epoch 68/100\n",
      "40730/40730 [==============================] - 1s 28us/step - loss: 0.2427 - acc: 0.9005\n",
      "Epoch 69/100\n",
      "40730/40730 [==============================] - 1s 26us/step - loss: 0.2441 - acc: 0.8989\n",
      "Epoch 70/100\n",
      "40730/40730 [==============================] - 1s 25us/step - loss: 0.2510 - acc: 0.8952\n",
      "Epoch 71/100\n",
      "40730/40730 [==============================] - 1s 21us/step - loss: 0.2456 - acc: 0.8982\n",
      "Epoch 72/100\n",
      "40730/40730 [==============================] - 1s 26us/step - loss: 0.2484 - acc: 0.8972\n",
      "Epoch 73/100\n",
      "40730/40730 [==============================] - 1s 24us/step - loss: 0.2467 - acc: 0.8982\n",
      "Epoch 74/100\n",
      "40730/40730 [==============================] - 1s 28us/step - loss: 0.2440 - acc: 0.9002\n",
      "Epoch 75/100\n",
      "40730/40730 [==============================] - 1s 27us/step - loss: 0.2435 - acc: 0.9009: 0s - loss: 0.2440\n",
      "Epoch 76/100\n",
      "40730/40730 [==============================] - 1s 24us/step - loss: 0.2426 - acc: 0.9018\n",
      "Epoch 77/100\n",
      "40730/40730 [==============================] - 1s 27us/step - loss: 0.2468 - acc: 0.8977\n",
      "Epoch 78/100\n",
      "40730/40730 [==============================] - 1s 34us/step - loss: 0.2517 - acc: 0.8946\n",
      "Epoch 79/100\n",
      "40730/40730 [==============================] - 1s 28us/step - loss: 0.2534 - acc: 0.8968\n",
      "Epoch 80/100\n",
      "40730/40730 [==============================] - 1s 32us/step - loss: 0.2478 - acc: 0.8981\n",
      "Epoch 81/100\n",
      "40730/40730 [==============================] - 1s 31us/step - loss: 0.2436 - acc: 0.8994\n",
      "Epoch 82/100\n",
      "40730/40730 [==============================] - 1s 31us/step - loss: 0.2481 - acc: 0.8966\n",
      "Epoch 83/100\n",
      "40730/40730 [==============================] - 1s 23us/step - loss: 0.2528 - acc: 0.8961\n",
      "Epoch 84/100\n",
      "40730/40730 [==============================] - 1s 18us/step - loss: 0.2459 - acc: 0.8998\n",
      "Epoch 85/100\n",
      "40730/40730 [==============================] - 1s 21us/step - loss: 0.2439 - acc: 0.8999\n",
      "Epoch 86/100\n",
      "40730/40730 [==============================] - 1s 18us/step - loss: 0.2505 - acc: 0.8951\n",
      "Epoch 87/100\n",
      "40730/40730 [==============================] - 1s 21us/step - loss: 0.2427 - acc: 0.9010\n",
      "Epoch 88/100\n",
      "40730/40730 [==============================] - 1s 20us/step - loss: 0.2450 - acc: 0.8987\n",
      "Epoch 89/100\n",
      "40730/40730 [==============================] - 1s 25us/step - loss: 0.2426 - acc: 0.9012\n",
      "Epoch 90/100\n",
      "40730/40730 [==============================] - 1s 26us/step - loss: 0.2436 - acc: 0.9006\n",
      "Epoch 91/100\n",
      "40730/40730 [==============================] - 1s 24us/step - loss: 0.2553 - acc: 0.8973\n",
      "Epoch 92/100\n",
      "40730/40730 [==============================] - 1s 21us/step - loss: 0.2518 - acc: 0.8961\n",
      "Epoch 93/100\n",
      "40730/40730 [==============================] - 1s 27us/step - loss: 0.2543 - acc: 0.8949\n",
      "Epoch 94/100\n",
      "40730/40730 [==============================] - 1s 26us/step - loss: 0.2584 - acc: 0.8914\n",
      "Epoch 95/100\n",
      "40730/40730 [==============================] - 1s 36us/step - loss: 0.2538 - acc: 0.8935\n",
      "Epoch 96/100\n",
      "40730/40730 [==============================] - 1s 29us/step - loss: 0.2628 - acc: 0.8910\n",
      "Epoch 97/100\n",
      "40730/40730 [==============================] - 1s 35us/step - loss: 0.2576 - acc: 0.8924\n",
      "Epoch 98/100\n",
      "40730/40730 [==============================] - 1s 32us/step - loss: 0.2570 - acc: 0.8925\n",
      "Epoch 99/100\n",
      "40730/40730 [==============================] - 1s 35us/step - loss: 0.2542 - acc: 0.8951\n",
      "Epoch 100/100\n",
      "40730/40730 [==============================] - 1s 25us/step - loss: 0.2518 - acc: 0.8967\n"
     ]
    },
    {
     "data": {
      "text/plain": [
       "<keras.callbacks.History at 0x1a2259be48>"
      ]
     },
     "execution_count": 36,
     "metadata": {},
     "output_type": "execute_result"
    }
   ],
   "source": [
    "model.fit(X_train, y_train, epochs=100, batch_size=64)"
   ]
  },
  {
   "cell_type": "markdown",
   "metadata": {},
   "source": [
    "## ANN Model Building"
   ]
  },
  {
   "cell_type": "markdown",
   "metadata": {},
   "source": [
    "#### A. Base model (Perceptron)\n"
   ]
  },
  {
   "cell_type": "code",
   "execution_count": 37,
   "metadata": {},
   "outputs": [],
   "source": [
    "perceptron_model = Sequential()\n",
    "\n",
    "perceptron_model.add(Dense(1, input_dim=21, activation='sigmoid', kernel_initializer='normal'))"
   ]
  },
  {
   "cell_type": "code",
   "execution_count": 38,
   "metadata": {},
   "outputs": [],
   "source": [
    "perceptron_model.compile(loss='binary_crossentropy', optimizer='adam', metrics=['accuracy'])"
   ]
  },
  {
   "cell_type": "code",
   "execution_count": 39,
   "metadata": {},
   "outputs": [
    {
     "name": "stdout",
     "output_type": "stream",
     "text": [
      "Epoch 1/30\n",
      "40730/40730 [==============================] - 2s 37us/step - loss: 0.5324 - acc: 0.8216\n",
      "Epoch 2/30\n",
      "40730/40730 [==============================] - 1s 28us/step - loss: 0.4214 - acc: 0.8419\n",
      "Epoch 3/30\n",
      "40730/40730 [==============================] - 1s 27us/step - loss: 0.4069 - acc: 0.8465\n",
      "Epoch 4/30\n",
      "40730/40730 [==============================] - 1s 32us/step - loss: 0.4198 - acc: 0.8493\n",
      "Epoch 5/30\n",
      "40730/40730 [==============================] - 1s 29us/step - loss: 0.3987 - acc: 0.8567\n",
      "Epoch 6/30\n",
      "40730/40730 [==============================] - 1s 36us/step - loss: 0.4166 - acc: 0.8564\n",
      "Epoch 7/30\n",
      "40730/40730 [==============================] - 1s 28us/step - loss: 0.4067 - acc: 0.8577\n",
      "Epoch 8/30\n",
      "40730/40730 [==============================] - 1s 32us/step - loss: 0.4425 - acc: 0.8597\n",
      "Epoch 9/30\n",
      "40730/40730 [==============================] - 1s 33us/step - loss: 0.3931 - acc: 0.8645\n",
      "Epoch 10/30\n",
      "40730/40730 [==============================] - 1s 23us/step - loss: 0.3992 - acc: 0.8611\n",
      "Epoch 11/30\n",
      "40730/40730 [==============================] - 1s 29us/step - loss: 0.3942 - acc: 0.8609\n",
      "Epoch 12/30\n",
      "40730/40730 [==============================] - 1s 22us/step - loss: 0.4198 - acc: 0.8591\n",
      "Epoch 13/30\n",
      "40730/40730 [==============================] - 1s 23us/step - loss: 0.4085 - acc: 0.8614\n",
      "Epoch 14/30\n",
      "40730/40730 [==============================] - 1s 20us/step - loss: 0.4019 - acc: 0.8662\n",
      "Epoch 15/30\n",
      "40730/40730 [==============================] - 1s 24us/step - loss: 0.4039 - acc: 0.8661\n",
      "Epoch 16/30\n",
      "40730/40730 [==============================] - 1s 22us/step - loss: 0.4137 - acc: 0.8647\n",
      "Epoch 17/30\n",
      "40730/40730 [==============================] - 1s 24us/step - loss: 0.3967 - acc: 0.8667\n",
      "Epoch 18/30\n",
      "40730/40730 [==============================] - 1s 25us/step - loss: 0.4062 - acc: 0.8654\n",
      "Epoch 19/30\n",
      "40730/40730 [==============================] - 1s 25us/step - loss: 0.3950 - acc: 0.8658\n",
      "Epoch 20/30\n",
      "40730/40730 [==============================] - 1s 26us/step - loss: 0.4272 - acc: 0.8631\n",
      "Epoch 21/30\n",
      "40730/40730 [==============================] - 1s 22us/step - loss: 0.4090 - acc: 0.8644: 0s - loss: 0.4010 - acc: 0.8\n",
      "Epoch 22/30\n",
      "40730/40730 [==============================] - 1s 22us/step - loss: 0.4062 - acc: 0.8663\n",
      "Epoch 23/30\n",
      "40730/40730 [==============================] - 1s 21us/step - loss: 0.4057 - acc: 0.8662\n",
      "Epoch 24/30\n",
      "40730/40730 [==============================] - 1s 23us/step - loss: 0.4012 - acc: 0.8653\n",
      "Epoch 25/30\n",
      "40730/40730 [==============================] - 1s 20us/step - loss: 0.3925 - acc: 0.8660\n",
      "Epoch 26/30\n",
      "40730/40730 [==============================] - 1s 23us/step - loss: 0.4226 - acc: 0.8640\n",
      "Epoch 27/30\n",
      "40730/40730 [==============================] - 1s 20us/step - loss: 0.4007 - acc: 0.8663\n",
      "Epoch 28/30\n",
      "40730/40730 [==============================] - 1s 23us/step - loss: 0.4065 - acc: 0.8660\n",
      "Epoch 29/30\n",
      "40730/40730 [==============================] - 1s 32us/step - loss: 0.4134 - acc: 0.8663\n",
      "Epoch 30/30\n",
      "40730/40730 [==============================] - 1s 24us/step - loss: 0.4053 - acc: 0.8669\n"
     ]
    },
    {
     "data": {
      "text/plain": [
       "<keras.callbacks.History at 0x107e01ef0>"
      ]
     },
     "execution_count": 39,
     "metadata": {},
     "output_type": "execute_result"
    }
   ],
   "source": [
    "perceptron_model.fit(X_train, y_train, epochs=30, batch_size=64)"
   ]
  },
  {
   "cell_type": "markdown",
   "metadata": {},
   "source": [
    "##### Predictions"
   ]
  },
  {
   "cell_type": "code",
   "execution_count": 40,
   "metadata": {},
   "outputs": [
    {
     "name": "stdout",
     "output_type": "stream",
     "text": [
      "[[31994  1058]\n",
      " [ 4108  3570]]\n",
      "[[13665   500]\n",
      " [ 1759  1532]]\n"
     ]
    }
   ],
   "source": [
    "test_pred=perceptron_model.predict_classes(X_test)\n",
    "train_pred=perceptron_model.predict_classes(X_train)\n",
    "\n",
    "confusion_matrix_test = confusion_matrix(y_test, test_pred)\n",
    "confusion_matrix_train = confusion_matrix(y_train, train_pred)\n",
    "\n",
    "print(confusion_matrix_train)\n",
    "print(confusion_matrix_test)\n"
   ]
  },
  {
   "cell_type": "markdown",
   "metadata": {},
   "source": [
    "##### Train Test Accuracy, True Negative Rate and True Positive Rate"
   ]
  },
  {
   "cell_type": "code",
   "execution_count": 41,
   "metadata": {},
   "outputs": [
    {
     "name": "stdout",
     "output_type": "stream",
     "text": [
      "Train TNR:  0.9679898342006535\n",
      "Train TPR:  0.4649648345923418\n",
      "Train Accuracy:  0.8731647434323594\n",
      "-----------------------\n",
      "Test TNR:  0.9647017296152488\n",
      "Test TPR:  0.4655120024308721\n",
      "Test Accuracy:  0.8705889092575618\n"
     ]
    }
   ],
   "source": [
    "Accuracy_Train=(confusion_matrix_train[0,0]+confusion_matrix_train[1,1])/(confusion_matrix_train[0,0]+confusion_matrix_train[0,1]+confusion_matrix_train[1,0]+confusion_matrix_train[1,1])\n",
    "TNR_Train= confusion_matrix_train[0,0]/(confusion_matrix_train[0,0]+confusion_matrix_train[0,1])\n",
    "TPR_Train= confusion_matrix_train[1,1]/(confusion_matrix_train[1,0]+confusion_matrix_train[1,1])\n",
    "\n",
    "print(\"Train TNR: \",TNR_Train)\n",
    "print(\"Train TPR: \",TPR_Train)\n",
    "print(\"Train Accuracy: \",Accuracy_Train)\n",
    "print(\"-----------------------\")\n",
    "\n",
    "Accuracy_Test=(confusion_matrix_test[0,0]+confusion_matrix_test[1,1])/(confusion_matrix_test[0,0]+confusion_matrix_test[0,1]+confusion_matrix_test[1,0]+confusion_matrix_test[1,1])\n",
    "TNR_Test= confusion_matrix_test[0,0]/(confusion_matrix_test[0,0] +confusion_matrix_test[0,1])\n",
    "TPR_Test= confusion_matrix_test[1,1]/(confusion_matrix_test[1,0] +confusion_matrix_test[1,1])\n",
    "\n",
    "print(\"Test TNR: \",TNR_Test)\n",
    "print(\"Test TPR: \",TPR_Test)\n",
    "print(\"Test Accuracy: \",Accuracy_Test)"
   ]
  },
  {
   "cell_type": "markdown",
   "metadata": {},
   "source": [
    "#### Adding a hidden layer"
   ]
  },
  {
   "cell_type": "code",
   "execution_count": 42,
   "metadata": {},
   "outputs": [],
   "source": [
    "mlp_model = Sequential()\n",
    "\n",
    "mlp_model.add(Dense(12, input_dim=21, activation='sigmoid', kernel_initializer='normal'))\n",
    "mlp_model.add(Dense(1, activation='sigmoid', kernel_initializer='normal'))"
   ]
  },
  {
   "cell_type": "code",
   "execution_count": 43,
   "metadata": {},
   "outputs": [
    {
     "name": "stdout",
     "output_type": "stream",
     "text": [
      "_________________________________________________________________\n",
      "Layer (type)                 Output Shape              Param #   \n",
      "=================================================================\n",
      "dense_4 (Dense)              (None, 12)                264       \n",
      "_________________________________________________________________\n",
      "dense_5 (Dense)              (None, 1)                 13        \n",
      "=================================================================\n",
      "Total params: 277\n",
      "Trainable params: 277\n",
      "Non-trainable params: 0\n",
      "_________________________________________________________________\n"
     ]
    }
   ],
   "source": [
    "mlp_model.summary()"
   ]
  },
  {
   "cell_type": "code",
   "execution_count": 44,
   "metadata": {},
   "outputs": [],
   "source": [
    "mlp_model.compile(loss='binary_crossentropy', optimizer='adam', metrics=['accuracy'])"
   ]
  },
  {
   "cell_type": "code",
   "execution_count": 45,
   "metadata": {
    "scrolled": true
   },
   "outputs": [
    {
     "name": "stdout",
     "output_type": "stream",
     "text": [
      "Train on 32584 samples, validate on 8146 samples\n",
      "Epoch 1/30\n",
      "32584/32584 [==============================] - 1s 39us/step - loss: 0.4122 - acc: 0.8271 - val_loss: 0.3148 - val_acc: 0.8512\n",
      "Epoch 2/30\n",
      "32584/32584 [==============================] - 1s 26us/step - loss: 0.2840 - acc: 0.8737 - val_loss: 0.2757 - val_acc: 0.8808\n",
      "Epoch 3/30\n",
      "32584/32584 [==============================] - 1s 28us/step - loss: 0.2622 - acc: 0.8926 - val_loss: 0.2603 - val_acc: 0.8954\n",
      "Epoch 4/30\n",
      "32584/32584 [==============================] - 1s 35us/step - loss: 0.2503 - acc: 0.8980 - val_loss: 0.2534 - val_acc: 0.8986\n",
      "Epoch 5/30\n",
      "32584/32584 [==============================] - 1s 31us/step - loss: 0.2463 - acc: 0.8982 - val_loss: 0.2467 - val_acc: 0.8984\n",
      "Epoch 6/30\n",
      "32584/32584 [==============================] - 1s 38us/step - loss: 0.2419 - acc: 0.9008 - val_loss: 0.2464 - val_acc: 0.8987\n",
      "Epoch 7/30\n",
      "32584/32584 [==============================] - 1s 34us/step - loss: 0.2413 - acc: 0.9008 - val_loss: 0.2421 - val_acc: 0.9013\n",
      "Epoch 8/30\n",
      "32584/32584 [==============================] - 1s 30us/step - loss: 0.2388 - acc: 0.9026 - val_loss: 0.2414 - val_acc: 0.9004\n",
      "Epoch 9/30\n",
      "32584/32584 [==============================] - 1s 25us/step - loss: 0.2372 - acc: 0.9027 - val_loss: 0.2399 - val_acc: 0.9031\n",
      "Epoch 10/30\n",
      "32584/32584 [==============================] - 1s 28us/step - loss: 0.2362 - acc: 0.9028 - val_loss: 0.2395 - val_acc: 0.9017\n",
      "Epoch 11/30\n",
      "32584/32584 [==============================] - 1s 25us/step - loss: 0.2360 - acc: 0.9022 - val_loss: 0.2403 - val_acc: 0.8985\n",
      "Epoch 12/30\n",
      "32584/32584 [==============================] - 1s 28us/step - loss: 0.2364 - acc: 0.9009 - val_loss: 0.2382 - val_acc: 0.9007\n",
      "Epoch 13/30\n",
      "32584/32584 [==============================] - 1s 24us/step - loss: 0.2357 - acc: 0.9019 - val_loss: 0.2408 - val_acc: 0.8980\n",
      "Epoch 14/30\n",
      "32584/32584 [==============================] - 1s 27us/step - loss: 0.2372 - acc: 0.9009 - val_loss: 0.2414 - val_acc: 0.8986\n",
      "Epoch 15/30\n",
      "32584/32584 [==============================] - 1s 25us/step - loss: 0.2348 - acc: 0.9022 - val_loss: 0.2367 - val_acc: 0.9000\n",
      "Epoch 16/30\n",
      "32584/32584 [==============================] - 1s 28us/step - loss: 0.2350 - acc: 0.9013 - val_loss: 0.2373 - val_acc: 0.9003\n",
      "Epoch 17/30\n",
      "32584/32584 [==============================] - 1s 25us/step - loss: 0.2341 - acc: 0.9030 - val_loss: 0.2382 - val_acc: 0.8986\n",
      "Epoch 18/30\n",
      "32584/32584 [==============================] - 1s 28us/step - loss: 0.2339 - acc: 0.9027 - val_loss: 0.2388 - val_acc: 0.8998\n",
      "Epoch 19/30\n",
      "32584/32584 [==============================] - 1s 34us/step - loss: 0.2339 - acc: 0.9030 - val_loss: 0.2365 - val_acc: 0.9030\n",
      "Epoch 20/30\n",
      "32584/32584 [==============================] - 1s 36us/step - loss: 0.2323 - acc: 0.9032 - val_loss: 0.2351 - val_acc: 0.9019\n",
      "Epoch 21/30\n",
      "32584/32584 [==============================] - 1s 39us/step - loss: 0.2321 - acc: 0.9034 - val_loss: 0.2347 - val_acc: 0.9025\n",
      "Epoch 22/30\n",
      "32584/32584 [==============================] - 1s 32us/step - loss: 0.2324 - acc: 0.9024 - val_loss: 0.2360 - val_acc: 0.9030\n",
      "Epoch 23/30\n",
      "32584/32584 [==============================] - 1s 37us/step - loss: 0.2321 - acc: 0.9033 - val_loss: 0.2362 - val_acc: 0.9017\n",
      "Epoch 24/30\n",
      "32584/32584 [==============================] - 1s 37us/step - loss: 0.2313 - acc: 0.9031 - val_loss: 0.2351 - val_acc: 0.9023\n",
      "Epoch 25/30\n",
      "32584/32584 [==============================] - 1s 28us/step - loss: 0.2354 - acc: 0.9029 - val_loss: 0.2422 - val_acc: 0.9001\n",
      "Epoch 26/30\n",
      "32584/32584 [==============================] - 1s 28us/step - loss: 0.2360 - acc: 0.9027 - val_loss: 0.2385 - val_acc: 0.9020\n",
      "Epoch 27/30\n",
      "32584/32584 [==============================] - 1s 38us/step - loss: 0.2339 - acc: 0.9035 - val_loss: 0.2355 - val_acc: 0.9011\n",
      "Epoch 28/30\n",
      "32584/32584 [==============================] - 1s 39us/step - loss: 0.2315 - acc: 0.9042 - val_loss: 0.2355 - val_acc: 0.9022\n",
      "Epoch 29/30\n",
      "32584/32584 [==============================] - 1s 37us/step - loss: 0.2300 - acc: 0.9047 - val_loss: 0.2352 - val_acc: 0.9027\n",
      "Epoch 30/30\n",
      "32584/32584 [==============================] - 1s 27us/step - loss: 0.2297 - acc: 0.9048 - val_loss: 0.2344 - val_acc: 0.9036\n"
     ]
    }
   ],
   "source": [
    "model_history = mlp_model.fit(X_train, y_train, epochs=30, batch_size=64, validation_split=0.2)"
   ]
  },
  {
   "cell_type": "markdown",
   "metadata": {},
   "source": [
    "#### Predictions"
   ]
  },
  {
   "cell_type": "code",
   "execution_count": 46,
   "metadata": {},
   "outputs": [],
   "source": [
    "train_pred = mlp_model.predict_classes(X_train)\n",
    "\n",
    "test_pred = mlp_model.predict_classes(X_test)"
   ]
  },
  {
   "cell_type": "markdown",
   "metadata": {},
   "source": [
    "#### Getting evaluation metrics and evaluating model performance"
   ]
  },
  {
   "cell_type": "code",
   "execution_count": 47,
   "metadata": {},
   "outputs": [
    {
     "name": "stdout",
     "output_type": "stream",
     "text": [
      "[[31335  1717]\n",
      " [ 2140  5538]]\n",
      "[[13359   806]\n",
      " [  948  2343]]\n"
     ]
    }
   ],
   "source": [
    "confusion_matrix_train = confusion_matrix(y_train, train_pred)\n",
    "confusion_matrix_test = confusion_matrix(y_test, test_pred)\n",
    "\n",
    "print(confusion_matrix_train)\n",
    "print(confusion_matrix_test)"
   ]
  },
  {
   "cell_type": "markdown",
   "metadata": {},
   "source": [
    "#### Calculate Accuracy, True Positive Rate and True Negative Rates"
   ]
  },
  {
   "cell_type": "code",
   "execution_count": 48,
   "metadata": {},
   "outputs": [
    {
     "name": "stdout",
     "output_type": "stream",
     "text": [
      "Train Specificity:  0.9480515551252572\n",
      "Train Recall:  0.7212815837457671\n",
      "Train Precision:  0.7633356305995865\n",
      "Train Accuracy:  0.9053032163024798\n"
     ]
    }
   ],
   "source": [
    "# Metrics on train data for ann_model 1\n",
    "#Accuracy\n",
    "accuracy_Train_M1 = (confusion_matrix_train[0,0]+confusion_matrix_train[1,1])/(confusion_matrix_train[0,0]+confusion_matrix_train[0,1]+confusion_matrix_train[1,0]+confusion_matrix_train[1,1])\n",
    "#specificity or true negative rate (TNR)\n",
    "specificity_Train_M1 = confusion_matrix_train[0,0]/(confusion_matrix_train[0,0]+confusion_matrix_train[0,1])\n",
    "#sensitivity, recall, hit rate, or true positive rate (TPR)\n",
    "recall_Train_M1 = confusion_matrix_train[1,1]/(confusion_matrix_train[1,0]+confusion_matrix_train[1,1])\n",
    "#precision\n",
    "precision_Train_M1 = confusion_matrix_train[1,1]/(confusion_matrix_train[0,1]+confusion_matrix_train[1,1])\n",
    "\n",
    "print(\"Train Specificity: \",specificity_Train_M1)\n",
    "print(\"Train Recall: \",recall_Train_M1)\n",
    "print(\"Train Precision: \",precision_Train_M1)\n",
    "print(\"Train Accuracy: \",accuracy_Train_M1)"
   ]
  },
  {
   "cell_type": "code",
   "execution_count": 49,
   "metadata": {},
   "outputs": [
    {
     "name": "stdout",
     "output_type": "stream",
     "text": [
      "Test Specificity:  0.9430991881397811\n",
      "Test Recall:  0.7119416590701915\n",
      "Test Precision:  0.7440457288027945\n",
      "Test Accuracy:  0.8995187901008249\n"
     ]
    }
   ],
   "source": [
    "# Metrics on test data\n",
    "#Accuracy\n",
    "accuracy_Test_M1 = (confusion_matrix_test[0,0]+confusion_matrix_test[1,1])/(confusion_matrix_test[0,0]+confusion_matrix_test[0,1]+confusion_matrix_test[1,0]+confusion_matrix_test[1,1])\n",
    "#specificity or true negative rate (TNR)\n",
    "specificity_Test_M1 = confusion_matrix_test[0,0]/(confusion_matrix_test[0,0]+confusion_matrix_test[0,1])\n",
    "#sensitivity, recall, hit rate, or true positive rate (TPR)\n",
    "recall_Test_M1 = confusion_matrix_test[1,1]/(confusion_matrix_test[1,0]+confusion_matrix_test[1,1])\n",
    "#precision\n",
    "precision_Test_M1 = confusion_matrix_test[1,1]/(confusion_matrix_test[0,1]+confusion_matrix_test[1,1])\n",
    "\n",
    "print(\"Test Specificity: \",specificity_Test_M1)\n",
    "print(\"Test Recall: \",recall_Test_M1)\n",
    "print(\"Test Precision: \",precision_Test_M1)\n",
    "print(\"Test Accuracy: \",accuracy_Test_M1)"
   ]
  },
  {
   "cell_type": "markdown",
   "metadata": {},
   "source": [
    "##### Plot"
   ]
  },
  {
   "cell_type": "code",
   "execution_count": 50,
   "metadata": {},
   "outputs": [
    {
     "name": "stdout",
     "output_type": "stream",
     "text": [
      "dict_keys(['val_loss', 'val_acc', 'loss', 'acc'])\n"
     ]
    }
   ],
   "source": [
    "print(model_history.history.keys())"
   ]
  },
  {
   "cell_type": "code",
   "execution_count": 51,
   "metadata": {},
   "outputs": [
    {
     "data": {
      "image/png": "[encoded data removed]",
      "text/plain": [
       "<Figure size 432x288 with 1 Axes>"
      ]
     },
     "metadata": {},
     "output_type": "display_data"
    }
   ],
   "source": [
    "plt.plot(model_history.history['acc'])\n",
    "plt.plot(model_history.history['val_acc'])\n",
    "plt.title('Accuracy Plot')\n",
    "plt.ylabel('Accuracy')\n",
    "plt.xlabel('Epoch')\n",
    "plt.legend(['Train', 'Validation'])\n",
    "plt.show()"
   ]
  },
  {
   "cell_type": "code",
   "execution_count": 52,
   "metadata": {},
   "outputs": [
    {
     "data": {
      "image/png": "[encoded data removed]",
      "text/plain": [
       "<Figure size 432x288 with 1 Axes>"
      ]
     },
     "metadata": {},
     "output_type": "display_data"
    }
   ],
   "source": [
    "plt.plot(model_history.history['loss'])\n",
    "plt.plot(model_history.history['val_loss'])\n",
    "plt.title('Loss Function Plot')\n",
    "plt.ylabel('Loss')\n",
    "plt.xlabel('Epoch')\n",
    "plt.legend(['Train', 'Validation'])\n",
    "plt.show()"
   ]
  },
  {
   "cell_type": "markdown",
   "metadata": {},
   "source": [
    "#### Visualize the above plots and analyze the Train and Validation curves"
   ]
  },
  {
   "cell_type": "markdown",
   "metadata": {},
   "source": [
    "### Experimenting with Hidden Layers\n",
    "\n",
    "We have to be careful about overfitting!!!"
   ]
  },
  {
   "cell_type": "code",
   "execution_count": 53,
   "metadata": {},
   "outputs": [
    {
     "name": "stdout",
     "output_type": "stream",
     "text": [
      "Train on 32584 samples, validate on 8146 samples\n",
      "Epoch 1/10\n",
      "32584/32584 [==============================] - 2s 73us/step - loss: 0.4830 - acc: 0.8132 - val_loss: 0.4911 - val_acc: 0.8048\n",
      "Epoch 2/10\n",
      "32584/32584 [==============================] - 2s 53us/step - loss: 0.4779 - acc: 0.8132 - val_loss: 0.4881 - val_acc: 0.8048\n",
      "Epoch 3/10\n",
      "32584/32584 [==============================] - 2s 54us/step - loss: 0.4741 - acc: 0.8132 - val_loss: 0.4844 - val_acc: 0.8048\n",
      "Epoch 4/10\n",
      "32584/32584 [==============================] - 2s 52us/step - loss: 0.4688 - acc: 0.8132 - val_loss: 0.4775 - val_acc: 0.8048\n",
      "Epoch 5/10\n",
      "32584/32584 [==============================] - 2s 53us/step - loss: 0.4607 - acc: 0.8132 - val_loss: 0.4663 - val_acc: 0.8048\n",
      "Epoch 6/10\n",
      "32584/32584 [==============================] - 2s 56us/step - loss: 0.4474 - acc: 0.8132 - val_loss: 0.4482 - val_acc: 0.8048\n",
      "Epoch 7/10\n",
      "32584/32584 [==============================] - 2s 65us/step - loss: 0.4261 - acc: 0.8132 - val_loss: 0.4217 - val_acc: 0.8048\n",
      "Epoch 8/10\n",
      "32584/32584 [==============================] - 2s 69us/step - loss: 0.3958 - acc: 0.8132 - val_loss: 0.3859 - val_acc: 0.8048\n",
      "Epoch 9/10\n",
      "32584/32584 [==============================] - 2s 66us/step - loss: 0.3605 - acc: 0.8224 - val_loss: 0.3504 - val_acc: 0.8354\n",
      "Epoch 10/10\n",
      "32584/32584 [==============================] - 2s 59us/step - loss: 0.3277 - acc: 0.8523 - val_loss: 0.3186 - val_acc: 0.8592\n",
      "Confusion matrices:\n",
      "---------------------\n",
      "Confusion matrix - Train:\n",
      "[[31984  1068]\n",
      " [ 4524  3154]]\n",
      "Confusion matrix - Test:\n",
      "[[13679   486]\n",
      " [ 1948  1343]]\n",
      "---------------------\n",
      "Evaluation metrics on train data for new model:\n",
      "------------------------------------\n",
      "Train Specificity:  0.9676872806486748\n",
      "Train Recall:  0.41078405834852827\n",
      "Train Precision:  0.7470393178588347\n",
      "Train Accuracy:  0.8627056223913577\n",
      "------------------------------------\n",
      "Evaluation metrics on train data for model 1:\n",
      "Train Specificity:  0.9480515551252572\n",
      "Train Recall:  0.7212815837457671\n",
      "Train Precision:  0.7633356305995865\n",
      "Train Accuracy:  0.9053032163024798\n",
      "------------------------------------\n",
      "------------------------------------\n",
      "Evaluation metrics on test data for new model:\n",
      "------------------------------------\n",
      "Test Specificity:  0.9656900811860218\n",
      "Test Recall:  0.4080826496505621\n",
      "Test Precision:  0.7342810278840897\n",
      "Test Accuracy:  0.8605637030247479\n",
      "------------------------------------\n",
      "Evaluation metrics on test data for model 1:\n",
      "Test Specificity:  0.9430991881397811\n",
      "Test Recall:  0.7119416590701915\n",
      "Test Precision:  0.7440457288027945\n",
      "Test Accuracy:  0.8995187901008249\n",
      "------------------------------------\n",
      "------------------------------------\n"
     ]
    }
   ],
   "source": [
    "ann_model_hiddenExp = Sequential()\n",
    "\n",
    "# Adding more hidden layers\n",
    "ann_model_hiddenExp.add(Dense(300, input_dim=21, activation='sigmoid', kernel_initializer='normal'))\n",
    "ann_model_hiddenExp.add(Dense(200, activation='sigmoid', kernel_initializer='normal'))\n",
    "ann_model_hiddenExp.add(Dense(100, activation='sigmoid', kernel_initializer='normal'))\n",
    "ann_model_hiddenExp.add(Dense(1, activation='sigmoid', kernel_initializer='normal'))\n",
    "\n",
    "ann_model_hiddenExp.compile(loss='binary_crossentropy', optimizer='sgd', metrics=['accuracy'])\n",
    "\n",
    "ann_model_hiddenExp.fit(X_train, y_train, epochs=10, batch_size=64, validation_split=0.2)\n",
    "\n",
    "# Predictions\n",
    "train_pred = ann_model_hiddenExp.predict_classes(X_train)\n",
    "test_pred = ann_model_hiddenExp.predict_classes(X_test)\n",
    "\n",
    "#Evaluation metrics\n",
    "confusion_matrix_train = confusion_matrix(y_train, train_pred)\n",
    "confusion_matrix_test = confusion_matrix(y_test, test_pred)\n",
    "\n",
    "print(\"Confusion matrices:\")\n",
    "print(\"---------------------\")\n",
    "print(\"Confusion matrix - Train:\")\n",
    "print(confusion_matrix_train)\n",
    "print(\"Confusion matrix - Test:\")\n",
    "print(confusion_matrix_test)\n",
    "print(\"---------------------\")\n",
    "\n",
    "# Metrics on train data\n",
    "#Accuracy\n",
    "accuracy_Train_hiddenExp = (confusion_matrix_train[0,0]+confusion_matrix_train[1,1])/(confusion_matrix_train[0,0]+confusion_matrix_train[0,1]+confusion_matrix_train[1,0]+confusion_matrix_train[1,1])\n",
    "#specificity or true negative rate (TNR)\n",
    "specificity_Train_hiddenExp = confusion_matrix_train[0,0]/(confusion_matrix_train[0,0]+confusion_matrix_train[0,1])\n",
    "#sensitivity, recall, hit rate, or true positive rate (TPR)\n",
    "recall_Train_hiddenExp = confusion_matrix_train[1,1]/(confusion_matrix_train[1,0]+confusion_matrix_train[1,1])\n",
    "#precision\n",
    "precision_Train_hiddenExp = confusion_matrix_train[1,1]/(confusion_matrix_train[0,1]+confusion_matrix_train[1,1])\n",
    "\n",
    "print(\"Evaluation metrics on train data for new model:\")\n",
    "print(\"------------------------------------\")\n",
    "print(\"Train Specificity: \",specificity_Train_hiddenExp)\n",
    "print(\"Train Recall: \",recall_Train_hiddenExp)\n",
    "print(\"Train Precision: \",precision_Train_hiddenExp)\n",
    "print(\"Train Accuracy: \",accuracy_Train_hiddenExp)\n",
    "print(\"------------------------------------\")\n",
    "\n",
    "print(\"Evaluation metrics on train data for model 1:\")\n",
    "print(\"Train Specificity: \",specificity_Train_M1)\n",
    "print(\"Train Recall: \",recall_Train_M1)\n",
    "print(\"Train Precision: \",precision_Train_M1)\n",
    "print(\"Train Accuracy: \",accuracy_Train_M1)\n",
    "print(\"------------------------------------\")\n",
    "print(\"------------------------------------\")\n",
    "\n",
    "# Metrics on test data\n",
    "#Accuracy\n",
    "accuracy_Test_hiddenExp = (confusion_matrix_test[0,0]+confusion_matrix_test[1,1])/(confusion_matrix_test[0,0]+confusion_matrix_test[0,1]+confusion_matrix_test[1,0]+confusion_matrix_test[1,1])\n",
    "#specificity or true negative rate (TNR)\n",
    "specificity_Test_hiddenExp = confusion_matrix_test[0,0]/(confusion_matrix_test[0,0]+confusion_matrix_test[0,1])\n",
    "#sensitivity, recall, hit rate, or true positive rate (TPR)\n",
    "recall_Test_hiddenExp = confusion_matrix_test[1,1]/(confusion_matrix_test[1,0]+confusion_matrix_test[1,1])\n",
    "#precision\n",
    "precision_Test_hiddenExp = confusion_matrix_test[1,1]/(confusion_matrix_test[0,1]+confusion_matrix_test[1,1])\n",
    "\n",
    "print(\"Evaluation metrics on test data for new model:\")\n",
    "print(\"------------------------------------\")\n",
    "print(\"Test Specificity: \",specificity_Test_hiddenExp)\n",
    "print(\"Test Recall: \",recall_Test_hiddenExp)\n",
    "print(\"Test Precision: \",precision_Test_hiddenExp)\n",
    "print(\"Test Accuracy: \",accuracy_Test_hiddenExp)\n",
    "print(\"------------------------------------\")\n",
    "\n",
    "print(\"Evaluation metrics on test data for model 1:\")\n",
    "print(\"Test Specificity: \",specificity_Test_M1)\n",
    "print(\"Test Recall: \",recall_Test_M1)\n",
    "print(\"Test Precision: \",precision_Test_M1)\n",
    "print(\"Test Accuracy: \",accuracy_Test_M1)\n",
    "print(\"------------------------------------\")\n",
    "print(\"------------------------------------\")"
   ]
  },
  {
   "cell_type": "code",
   "execution_count": 54,
   "metadata": {},
   "outputs": [],
   "source": [
    "from keras.callbacks import EarlyStopping # https://keras.io/callbacks/#earlystopping"
   ]
  },
  {
   "cell_type": "markdown",
   "metadata": {},
   "source": [
    "###### Earlystopping feature  helps us define the model's learning process, we can set the model to stop training if the validation accuracy or validation loss does not change by a threshold for n epochs"
   ]
  },
  {
   "cell_type": "code",
   "execution_count": 67,
   "metadata": {},
   "outputs": [],
   "source": [
    "earlystop = EarlyStopping(monitor='val_acc', min_delta=0.001, patience=10, \\\n",
    "                          verbose=1, mode='auto')\n",
    "callbacks_list = [earlystop]"
   ]
  },
  {
   "cell_type": "code",
   "execution_count": 68,
   "metadata": {},
   "outputs": [
    {
     "name": "stdout",
     "output_type": "stream",
     "text": [
      "Train on 32584 samples, validate on 8146 samples\n",
      "Epoch 1/200\n",
      "32584/32584 [==============================] - 1s 40us/step - loss: 0.3485 - acc: 0.8392 - val_loss: 0.3098 - val_acc: 0.8588\n",
      "Epoch 2/200\n",
      "32584/32584 [==============================] - 1s 27us/step - loss: 0.2907 - acc: 0.8726 - val_loss: 0.2882 - val_acc: 0.8732\n",
      "Epoch 3/200\n",
      "32584/32584 [==============================] - 1s 24us/step - loss: 0.2716 - acc: 0.8853 - val_loss: 0.2711 - val_acc: 0.8809\n",
      "Epoch 4/200\n",
      "32584/32584 [==============================] - 1s 27us/step - loss: 0.2613 - acc: 0.8906 - val_loss: 0.2652 - val_acc: 0.8867\n",
      "Epoch 5/200\n",
      "32584/32584 [==============================] - 1s 24us/step - loss: 0.2579 - acc: 0.8921 - val_loss: 0.2615 - val_acc: 0.8889\n",
      "Epoch 6/200\n",
      "32584/32584 [==============================] - 1s 32us/step - loss: 0.2557 - acc: 0.8939 - val_loss: 0.2721 - val_acc: 0.8806\n",
      "Epoch 7/200\n",
      "32584/32584 [==============================] - 1s 38us/step - loss: 0.2559 - acc: 0.8922 - val_loss: 0.2598 - val_acc: 0.8912\n",
      "Epoch 8/200\n",
      "32584/32584 [==============================] - 1s 35us/step - loss: 0.2514 - acc: 0.8957 - val_loss: 0.2528 - val_acc: 0.8925\n",
      "Epoch 9/200\n",
      "32584/32584 [==============================] - 1s 32us/step - loss: 0.2496 - acc: 0.8956 - val_loss: 0.2529 - val_acc: 0.8925\n",
      "Epoch 10/200\n",
      "32584/32584 [==============================] - 1s 23us/step - loss: 0.2474 - acc: 0.8978 - val_loss: 0.2552 - val_acc: 0.8912\n",
      "Epoch 11/200\n",
      "32584/32584 [==============================] - 1s 27us/step - loss: 0.2496 - acc: 0.8965 - val_loss: 0.2504 - val_acc: 0.8950\n",
      "Epoch 12/200\n",
      "32584/32584 [==============================] - 1s 24us/step - loss: 0.2460 - acc: 0.8977 - val_loss: 0.2558 - val_acc: 0.8933\n",
      "Epoch 13/200\n",
      "32584/32584 [==============================] - 1s 28us/step - loss: 0.2474 - acc: 0.8974 - val_loss: 0.2540 - val_acc: 0.8925\n",
      "Epoch 14/200\n",
      "32584/32584 [==============================] - 1s 23us/step - loss: 0.2473 - acc: 0.8962 - val_loss: 0.2518 - val_acc: 0.8925\n",
      "Epoch 15/200\n",
      "32584/32584 [==============================] - 1s 27us/step - loss: 0.2478 - acc: 0.8978 - val_loss: 0.2503 - val_acc: 0.8957\n",
      "Epoch 16/200\n",
      "32584/32584 [==============================] - 1s 23us/step - loss: 0.2462 - acc: 0.8962 - val_loss: 0.2488 - val_acc: 0.8969\n",
      "Epoch 17/200\n",
      "32584/32584 [==============================] - 1s 27us/step - loss: 0.2458 - acc: 0.8968 - val_loss: 0.2505 - val_acc: 0.8963\n",
      "Epoch 18/200\n",
      "32584/32584 [==============================] - 1s 23us/step - loss: 0.2455 - acc: 0.8973 - val_loss: 0.2508 - val_acc: 0.8948\n",
      "Epoch 19/200\n",
      "32584/32584 [==============================] - 1s 29us/step - loss: 0.2449 - acc: 0.8980 - val_loss: 0.2508 - val_acc: 0.8966\n",
      "Epoch 20/200\n",
      "32584/32584 [==============================] - 1s 27us/step - loss: 0.2469 - acc: 0.8973 - val_loss: 0.2493 - val_acc: 0.8947\n",
      "Epoch 21/200\n",
      "32584/32584 [==============================] - 1s 35us/step - loss: 0.2445 - acc: 0.8991 - val_loss: 0.2494 - val_acc: 0.8980\n",
      "Epoch 22/200\n",
      "32584/32584 [==============================] - 1s 24us/step - loss: 0.2453 - acc: 0.8983 - val_loss: 0.2546 - val_acc: 0.8898\n",
      "Epoch 23/200\n",
      "32584/32584 [==============================] - 1s 31us/step - loss: 0.2490 - acc: 0.8962 - val_loss: 0.2692 - val_acc: 0.8822\n",
      "Epoch 24/200\n",
      "32584/32584 [==============================] - 1s 26us/step - loss: 0.2513 - acc: 0.8972 - val_loss: 0.2561 - val_acc: 0.8938\n",
      "Epoch 25/200\n",
      "32584/32584 [==============================] - 1s 27us/step - loss: 0.2527 - acc: 0.8952 - val_loss: 0.2562 - val_acc: 0.8930\n",
      "Epoch 26/200\n",
      "32584/32584 [==============================] - 1s 26us/step - loss: 0.2486 - acc: 0.8970 - val_loss: 0.2511 - val_acc: 0.8981\n",
      "Epoch 27/200\n",
      "32584/32584 [==============================] - 1s 29us/step - loss: 0.2469 - acc: 0.8972 - val_loss: 0.2556 - val_acc: 0.8917\n",
      "Epoch 28/200\n",
      "32584/32584 [==============================] - 1s 25us/step - loss: 0.2481 - acc: 0.8968 - val_loss: 0.2547 - val_acc: 0.8927\n",
      "Epoch 29/200\n",
      "32584/32584 [==============================] - 1s 27us/step - loss: 0.2471 - acc: 0.8979 - val_loss: 0.2492 - val_acc: 0.8957\n",
      "Epoch 30/200\n",
      "32584/32584 [==============================] - 1s 26us/step - loss: 0.2446 - acc: 0.8989 - val_loss: 0.2490 - val_acc: 0.8963\n",
      "Epoch 31/200\n",
      "32584/32584 [==============================] - 1s 31us/step - loss: 0.2496 - acc: 0.8981 - val_loss: 0.2587 - val_acc: 0.8905\n",
      "Epoch 00031: early stopping\n",
      "Confusion matrices:\n",
      "---------------------\n",
      "Confusion matrix - Train:\n",
      "[[30459  2593]\n",
      " [ 1796  5882]]\n",
      "Confusion matrix - Test:\n",
      "[[13025  1140]\n",
      " [  801  2490]]\n",
      "---------------------\n",
      "Evaluation metrics on train data for new model:\n",
      "------------------------------------\n",
      "Train Specificity:  0.921547863971923\n",
      "Train Recall:  0.7660849179473821\n",
      "Train Precision:  0.6940412979351033\n",
      "Train Accuracy:  0.8922415909648908\n",
      "------------------------------------\n",
      "Evaluation metrics on test data for new model:\n",
      "------------------------------------\n",
      "Test Specificity:  0.9195199435227673\n",
      "Test Recall:  0.7566089334548769\n",
      "Test Precision:  0.6859504132231405\n",
      "Test Accuracy:  0.8888061411549038\n",
      "------------------------------------\n"
     ]
    }
   ],
   "source": [
    "ann_es_hiddenExp = Sequential()\n",
    "\n",
    "# Adding more hidden layers\n",
    "ann_es_hiddenExp.add(Dense(64, input_dim=21, activation='sigmoid'))\n",
    "ann_es_hiddenExp.add(Dense(1, activation='sigmoid'))\n",
    "\n",
    "ann_es_hiddenExp.compile(loss='binary_crossentropy', optimizer='sgd', metrics=['accuracy'])\n",
    "\n",
    "ann_history=ann_es_hiddenExp.fit(X_train, y_train, epochs=200, batch_size=64,callbacks=callbacks_list,validation_split=0.2)\n",
    "\n",
    "# Predictions\n",
    "train_pred = ann_es_hiddenExp.predict_classes(X_train)\n",
    "test_pred = ann_es_hiddenExp.predict_classes(X_test)\n",
    "\n",
    "#Evaluation metrics\n",
    "confusion_matrix_train = confusion_matrix(y_train, train_pred)\n",
    "confusion_matrix_test = confusion_matrix(y_test, test_pred)\n",
    "\n",
    "print(\"Confusion matrices:\")\n",
    "print(\"---------------------\")\n",
    "print(\"Confusion matrix - Train:\")\n",
    "print(confusion_matrix_train)\n",
    "print(\"Confusion matrix - Test:\")\n",
    "print(confusion_matrix_test)\n",
    "print(\"---------------------\")\n",
    "\n",
    "# Metrics on train data\n",
    "#Accuracy\n",
    "accuracy_Train_hiddenExp = (confusion_matrix_train[0,0]+confusion_matrix_train[1,1])/(confusion_matrix_train[0,0]+confusion_matrix_train[0,1]+confusion_matrix_train[1,0]+confusion_matrix_train[1,1])\n",
    "#specificity or true negative rate (TNR)\n",
    "specificity_Train_hiddenExp = confusion_matrix_train[0,0]/(confusion_matrix_train[0,0]+confusion_matrix_train[0,1])\n",
    "#sensitivity, recall, hit rate, or true positive rate (TPR)\n",
    "recall_Train_hiddenExp = confusion_matrix_train[1,1]/(confusion_matrix_train[1,0]+confusion_matrix_train[1,1])\n",
    "#precision\n",
    "precision_Train_hiddenExp = confusion_matrix_train[1,1]/(confusion_matrix_train[0,1]+confusion_matrix_train[1,1])\n",
    "\n",
    "print(\"Evaluation metrics on train data for new model:\")\n",
    "print(\"------------------------------------\")\n",
    "print(\"Train Specificity: \",specificity_Train_hiddenExp)\n",
    "print(\"Train Recall: \",recall_Train_hiddenExp)\n",
    "print(\"Train Precision: \",precision_Train_hiddenExp)\n",
    "print(\"Train Accuracy: \",accuracy_Train_hiddenExp)\n",
    "print(\"------------------------------------\")\n",
    "\n",
    "\n",
    "# Metrics on test data\n",
    "#Accuracy\n",
    "accuracy_Test_hiddenExp = (confusion_matrix_test[0,0]+confusion_matrix_test[1,1])/(confusion_matrix_test[0,0]+confusion_matrix_test[0,1]+confusion_matrix_test[1,0]+confusion_matrix_test[1,1])\n",
    "#specificity or true negative rate (TNR)\n",
    "specificity_Test_hiddenExp = confusion_matrix_test[0,0]/(confusion_matrix_test[0,0]+confusion_matrix_test[0,1])\n",
    "#sensitivity, recall, hit rate, or true positive rate (TPR)\n",
    "recall_Test_hiddenExp = confusion_matrix_test[1,1]/(confusion_matrix_test[1,0]+confusion_matrix_test[1,1])\n",
    "#precision\n",
    "precision_Test_hiddenExp = confusion_matrix_test[1,1]/(confusion_matrix_test[0,1]+confusion_matrix_test[1,1])\n",
    "\n",
    "print(\"Evaluation metrics on test data for new model:\")\n",
    "print(\"------------------------------------\")\n",
    "print(\"Test Specificity: \",specificity_Test_hiddenExp)\n",
    "print(\"Test Recall: \",recall_Test_hiddenExp)\n",
    "print(\"Test Precision: \",precision_Test_hiddenExp)\n",
    "print(\"Test Accuracy: \",accuracy_Test_hiddenExp)\n",
    "print(\"------------------------------------\")\n"
   ]
  },
  {
   "cell_type": "markdown",
   "metadata": {},
   "source": [
    "##### * history object stores the member history as a dictionary. The details of what happened during training."
   ]
  },
  {
   "cell_type": "markdown",
   "metadata": {},
   "source": [
    "##### Let us plot the training and validation loss "
   ]
  },
  {
   "cell_type": "code",
   "execution_count": 69,
   "metadata": {},
   "outputs": [
    {
     "data": {
      "image/png": "[encoded data removed]",
      "text/plain": [
       "<Figure size 432x288 with 1 Axes>"
      ]
     },
     "metadata": {},
     "output_type": "display_data"
    }
   ],
   "source": [
    "import matplotlib.pyplot as plt\n",
    "%matplotlib inline\n",
    "\n",
    "history_dict = ann_history.history\n",
    "loss_values = history_dict['loss']\n",
    "val_loss_values = history_dict['val_loss']\n",
    "\n",
    "epochs = range(1,len(ann_history.epoch)+1) # creating a range object for plotting on x axis\n",
    "\n",
    "plt.plot(epochs, loss_values, 'ro', label='Training loss')           \n",
    "plt.plot(epochs, val_loss_values, 'b--', label='Validation loss')      \n",
    "plt.title('Training and validation loss')\n",
    "plt.xlabel('Epochs')\n",
    "plt.ylabel('Loss')\n",
    "plt.legend()\n",
    "\n",
    "plt.show()"
   ]
  },
  {
   "cell_type": "markdown",
   "metadata": {},
   "source": [
    "##### From the graph we see that training loss consistently decreases but validation loss shows ups and downs as the epochs increase!"
   ]
  },
  {
   "cell_type": "markdown",
   "metadata": {},
   "source": [
    "##### Let us plot the training and validation accuracy "
   ]
  },
  {
   "cell_type": "code",
   "execution_count": 70,
   "metadata": {},
   "outputs": [
    {
     "data": {
      "image/png": "[encoded data removed]",
      "text/plain": [
       "<Figure size 432x288 with 1 Axes>"
      ]
     },
     "metadata": {},
     "output_type": "display_data"
    }
   ],
   "source": [
    "acc_values = history_dict['acc']\n",
    "val_acc_values = history_dict['val_acc']\n",
    "\n",
    "plt.plot(epochs, acc_values, 'ro', label='Training acc')\n",
    "plt.plot(epochs, val_acc_values, 'b--', label='Validation acc')\n",
    "plt.title('Training and validation accuracy')\n",
    "plt.xlabel('Epochs')\n",
    "plt.ylabel('Loss')\n",
    "plt.legend()\n",
    "\n",
    "plt.show()"
   ]
  },
  {
   "cell_type": "markdown",
   "metadata": {},
   "source": [
    "##### Analyze the above plot to understand the variation between training and validation accuracy curves with respect to increasing epochs!"
   ]
  },
  {
   "cell_type": "markdown",
   "metadata": {},
   "source": [
    "### Exercise: Experiment with learning rates\n",
    "\n"
   ]
  },
  {
   "cell_type": "markdown",
   "metadata": {
    "collapsed": true
   },
   "source": [
    "### Reference Links:\n",
    "\n",
    "https://machinelearningmastery.com/adam-optimization-algorithm-for-deep-learning/\n",
    "\n",
    "https://keras.io/"
   ]
  },
  {
   "cell_type": "code",
   "execution_count": null,
   "metadata": {},
   "outputs": [],
   "source": []
  }
 ],
 "metadata": {
  "kernelspec": {
   "display_name": "Python 3",
   "language": "python",
   "name": "python3"
  },
  "language_info": {
   "codemirror_mode": {
    "name": "ipython",
    "version": 3
   },
   "file_extension": ".py",
   "mimetype": "text/x-python",
   "name": "python",
   "nbconvert_exporter": "python",
   "pygments_lexer": "ipython3",
   "version": "3.6.5"
  }
 },
 "nbformat": 4,
 "nbformat_minor": 2
}
